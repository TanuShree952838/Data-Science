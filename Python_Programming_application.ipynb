{
 "cells": [
  {
   "cell_type": "markdown",
   "id": "d4ba50eb-d660-4527-a93c-c82e83e55ae7",
   "metadata": {},
   "source": [
    "# Data Handling"
   ]
  },
  {
   "cell_type": "markdown",
   "id": "2d00efb8-aa92-4d33-9425-0c1cdabca25f",
   "metadata": {},
   "source": [
    "### Working of open() function\n",
    " There are kinds of mode, that Python provides and how files can be opened:\n",
    "1. “ r “, for reading.\n",
    "2. “ w “, for writing.\n",
    "3. “ a “, for appending.\n",
    "4. “ r+ “, for both reading and writing"
   ]
  },
  {
   "cell_type": "code",
   "execution_count": 25,
   "id": "c7a64935-b5dd-4aa9-8703-7407edee4a90",
   "metadata": {},
   "outputs": [
    {
     "name": "stdout",
     "output_type": "stream",
     "text": [
      "Hello I am TanushreeI am pursuing my graduation from Jaypee University AnoospshahrThis will add this lineThis will add this lineThis will add this lineHi, thereHi, there Tanushree HereHi, there!!!\n"
     ]
    }
   ],
   "source": [
    "file = open('mytext.txt', 'r')\n",
    "for i in file:\n",
    "    print (i)"
   ]
  },
  {
   "cell_type": "code",
   "execution_count": 26,
   "id": "92f858cd-ed0d-43ed-9433-f6b0e8f9ea30",
   "metadata": {},
   "outputs": [
    {
     "name": "stdout",
     "output_type": "stream",
     "text": [
      "Hello I am TanushreeI am pursuing my graduation from Jaypee University AnoospshahrThis will add this lineThis will add this lineThis will add this lineHi, thereHi, there Tanushree HereHi, there!!!\n"
     ]
    }
   ],
   "source": [
    "file = open(\"mytext.txt\", \"r\") \n",
    "print(file.read())"
   ]
  },
  {
   "cell_type": "code",
   "execution_count": 27,
   "id": "c9b309f6-1c52-4e00-aaf9-0e5b647e0cd1",
   "metadata": {},
   "outputs": [
    {
     "name": "stdout",
     "output_type": "stream",
     "text": [
      "Hello I am\n"
     ]
    }
   ],
   "source": [
    "file = open(\"mytext.txt\", \"r\")\n",
    "print (file.read(10))"
   ]
  },
  {
   "cell_type": "code",
   "execution_count": 28,
   "id": "4dd7bb15-ce9f-4a81-bd80-e69b3951fae7",
   "metadata": {},
   "outputs": [],
   "source": [
    "file = open('mytext.txt','w')\n",
    "file.write(\"Hello I am Tanushree\")\n",
    "file.write(\"I am pursuing my graduation from Jaypee University Anoospshahr\")\n",
    "file.close() #The close() command terminates all the resources in use and frees the system of this particular program."
   ]
  },
  {
   "cell_type": "markdown",
   "id": "81265b08-c856-4f0a-b32b-c1eb1f8aa416",
   "metadata": {},
   "source": [
    "### Working of append() mode"
   ]
  },
  {
   "cell_type": "code",
   "execution_count": 29,
   "id": "e5821442-1661-4135-816b-5d72642dd1e5",
   "metadata": {},
   "outputs": [
    {
     "data": {
      "text/plain": [
       "12"
      ]
     },
     "execution_count": 29,
     "metadata": {},
     "output_type": "execute_result"
    }
   ],
   "source": [
    "file = open('mytext.txt','a')\n",
    "file.write(\"Hi, there!!!\")"
   ]
  },
  {
   "cell_type": "code",
   "execution_count": 30,
   "id": "06594dda-3e9e-4a06-b75d-7c5c62fa43ac",
   "metadata": {},
   "outputs": [],
   "source": [
    "with open(\"mytext.txt\") as file:  \n",
    "    data = file.read() "
   ]
  },
  {
   "cell_type": "code",
   "execution_count": 32,
   "id": "60a9b0e5-8089-4773-ad8a-c4ed7b23e035",
   "metadata": {},
   "outputs": [],
   "source": [
    "with open(\"file.txt\", \"w\") as f: \n",
    "    f.write(\"Hello!!!\") "
   ]
  },
  {
   "cell_type": "markdown",
   "id": "c9e292c1-426d-4df6-bada-45a5128f6dad",
   "metadata": {},
   "source": [
    "### Using write along with with() function"
   ]
  },
  {
   "cell_type": "code",
   "execution_count": 33,
   "id": "e43c6ed0-527b-4f19-aa88-0f58b748f931",
   "metadata": {},
   "outputs": [],
   "source": [
    "with open(\"file.txt\", \"w\") as f: \n",
    "    f.write(\"Hey!!!\") "
   ]
  },
  {
   "cell_type": "markdown",
   "id": "2c732485-321b-44ac-ae60-40e6c8b6d6b1",
   "metadata": {},
   "source": [
    "# Database Connectivity"
   ]
  },
  {
   "cell_type": "markdown",
   "id": "a2f58c2f-2351-420a-a71f-88a01839781b",
   "metadata": {},
   "source": [
    "Python database is portable, and the program is also portable so both can give an advantage in case of portability"
   ]
  },
  {
   "cell_type": "markdown",
   "id": "30585cb7-3d43-4138-bc2d-2f39e0e282e5",
   "metadata": {},
   "source": [
    "It is an interface for associating the SQL database server from Python and uses the DB-API of Python to work."
   ]
  },
  {
   "cell_type": "code",
   "execution_count": 50,
   "id": "0168422a-dd7e-4d07-9c57-125dc48e643d",
   "metadata": {},
   "outputs": [],
   "source": [
    "import sqlite3"
   ]
  },
  {
   "cell_type": "code",
   "execution_count": 52,
   "id": "aba3c5ec-23cb-414a-bc6d-e6c145d8ed2b",
   "metadata": {},
   "outputs": [
    {
     "name": "stdout",
     "output_type": "stream",
     "text": [
      "Opened database successfully\n",
      "Table created successfully\n"
     ]
    }
   ],
   "source": [
    "conn = sqlite3.connect('test.db')\n",
    "print(\"Opened database successfully\")\n",
    "\n",
    "conn.execute('''CREATE TABLE COMPANY\n",
    "         (ID INT PRIMARY KEY     NOT NULL,\n",
    "         NAME           TEXT    NOT NULL,\n",
    "         AGE            INT     NOT NULL,\n",
    "         ADDRESS        CHAR(50),\n",
    "         SALARY         REAL);''')\n",
    "print(\"Table created successfully\")\n",
    "\n",
    "conn.close()"
   ]
  },
  {
   "cell_type": "code",
   "execution_count": 55,
   "id": "bd8dca31-a30e-4a36-af50-baa5883e34fb",
   "metadata": {},
   "outputs": [
    {
     "name": "stdout",
     "output_type": "stream",
     "text": [
      "Opened database successfully\n",
      "Operation done successfully\n"
     ]
    }
   ],
   "source": [
    "conn = sqlite3.connect('test.db')\n",
    "print(\"Opened database successfully\")\n",
    "\n",
    "cursor = conn.execute(\"SELECT id, name, address, salary from COMPANY\")\n",
    "for row in cursor:\n",
    "   print (\"ID = \", row[0])\n",
    "   print (\"NAME = \", row[1])\n",
    "   print (\"ADDRESS = \", row[2])\n",
    "   print (\"SALARY = \", row[3], \"\\n\")\n",
    "\n",
    "print(\"Operation done successfully\")\n",
    "conn.close()"
   ]
  },
  {
   "cell_type": "code",
   "execution_count": 61,
   "id": "fa035a2c-e86b-4e8c-a869-885cfb8f9a01",
   "metadata": {},
   "outputs": [
    {
     "name": "stdout",
     "output_type": "stream",
     "text": [
      "Opened database successfully\n",
      "Total number of rows updated : 0\n",
      "Operation done successfully\n"
     ]
    }
   ],
   "source": [
    "#update Operation\n",
    "conn = sqlite3.connect('test.db')\n",
    "print (\"Opened database successfully\")\n",
    "\n",
    "conn.execute(\"UPDATE COMPANY set SALARY = 25000.00 where ID = 1\")\n",
    "conn.commit\n",
    "print( \"Total number of rows updated :\", conn.total_changes)\n",
    "\n",
    "cursor = conn.execute(\"SELECT id, name, address, salary from COMPANY\")\n",
    "for row in cursor:\n",
    "   print (\"ID = \", row[0])\n",
    "   print (\"NAME = \", row[1])\n",
    "   print (\"ADDRESS = \", row[2])\n",
    "   print (\"SALARY = \", row[3], \"\\n\")\n",
    "\n",
    "print (\"Operation done successfully\")\n",
    "conn.close()"
   ]
  },
  {
   "cell_type": "markdown",
   "id": "c759404f-ea82-45e4-9102-99c8518888df",
   "metadata": {},
   "source": [
    "from mysql.connector import (connection)\n",
    "\n",
    "#establishing the connection\n",
    "conn = connection.MySQLConnection(user='root', password='password', host='127.0.0.1', database='mydb')\n",
    "\n",
    "#Closing the connection\n",
    "conn.close()"
   ]
  }
 ],
 "metadata": {
  "kernelspec": {
   "display_name": "Python 3",
   "language": "python",
   "name": "python3"
  },
  "language_info": {
   "codemirror_mode": {
    "name": "ipython",
    "version": 3
   },
   "file_extension": ".py",
   "mimetype": "text/x-python",
   "name": "python",
   "nbconvert_exporter": "python",
   "pygments_lexer": "ipython3",
   "version": "3.8.5"
  }
 },
 "nbformat": 4,
 "nbformat_minor": 5
}
