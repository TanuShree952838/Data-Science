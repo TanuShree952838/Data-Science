{
 "cells": [
  {
   "cell_type": "markdown",
   "id": "f0278fa5-756a-4dbb-a64b-b8e01897e0f2",
   "metadata": {},
   "source": [
    "# Functions and Modules"
   ]
  },
  {
   "cell_type": "markdown",
   "id": "bee2c956-ce63-4117-82ed-5ee61a291280",
   "metadata": {},
   "source": [
    "A function in python is declared by the keyword 'def' before the name of the function. The return type of the function need not be specified explicitly in python. The function can be invoked by writing the function name followed by the parameter list in the brackets.\n",
    "To call a function, use the function name followed by parenthesis:\n",
    "Information can be passed into functions as arguments.\n",
    "Note: The terms parameter and argument can be used for the same thing: information that are passed into a function."
   ]
  },
  {
   "cell_type": "code",
   "execution_count": 53,
   "id": "53fbad62-a83d-4ca2-a43f-304163ca3023",
   "metadata": {},
   "outputs": [
    {
     "name": "stdout",
     "output_type": "stream",
     "text": [
      "a is not divisible by b\n"
     ]
    }
   ],
   "source": [
    "# Function for checking the divisibility\n",
    "def checkDivisibility(a, b):\n",
    "    if a % b == 0 :\n",
    "        print(\"a is divisible by b\")\n",
    "    else:\n",
    "        print(\"a is not divisible by b\")\n",
    "#Driver program\n",
    "checkDivisibility(5, 12)"
   ]
  },
  {
   "cell_type": "markdown",
   "id": "cfa14344-fbbc-453f-aa9b-cfcbae05be7c",
   "metadata": {},
   "source": [
    "If we do not know how many arguments that will be passed into our function, we can add a * before the parameter name in the function definition. This way the function will receive a tuple of arguments, and can access the items accordingly:"
   ]
  },
  {
   "cell_type": "code",
   "execution_count": 54,
   "id": "21c03c6f-a20c-4e51-a7d1-d71c0375a9b3",
   "metadata": {},
   "outputs": [
    {
     "name": "stdout",
     "output_type": "stream",
     "text": [
      "The sum of numbers is :  46\n"
     ]
    }
   ],
   "source": [
    "def fun(*digits):\n",
    "  print(\"The sum of numbers is : \", sum(digits))\n",
    "\n",
    "fun(3, 6, 7, 8, 10, 12)"
   ]
  },
  {
   "cell_type": "markdown",
   "id": "bd939385-d7a6-4108-a513-92af48380b17",
   "metadata": {},
   "source": [
    "If we do not know how many keyword arguments that will be passed into your function, add two asterisk: ** before the parameter name in the function definition.\n",
    "\n",
    "This way the function will receive a dictionary of arguments, and can access the items accordingly:\n",
    "\n"
   ]
  },
  {
   "cell_type": "code",
   "execution_count": 55,
   "id": "331b43cd-6395-4b42-86a5-bfcd497d78c5",
   "metadata": {},
   "outputs": [
    {
     "name": "stdout",
     "output_type": "stream",
     "text": [
      "The sum of numbers is :  2\n"
     ]
    }
   ],
   "source": [
    "def fun(**digits):\n",
    "  print(\"The sum of numbers is : \", digits[\"two\"])\n",
    "\n",
    "fun(one = 1, two = 2,three =3)"
   ]
  },
  {
   "cell_type": "markdown",
   "id": "9ca1e9dd-25bf-4401-949c-0048f1c2dfeb",
   "metadata": {},
   "source": [
    "We can send any data types of argument to a function (string, number, list, dictionary etc.), and it will be treated as the same data type inside the function."
   ]
  },
  {
   "cell_type": "code",
   "execution_count": 56,
   "id": "c03a13cd-731d-459e-a92b-45b132cda39c",
   "metadata": {},
   "outputs": [
    {
     "name": "stdout",
     "output_type": "stream",
     "text": [
      "The sum of numbers is :  2\n"
     ]
    }
   ],
   "source": [
    "def fun(digits):\n",
    "  print(\"The sum of numbers is : \", digits[\"two\"])\n",
    "dgt = {\"one\" : 1, \"two\" :2,\"three\" :3}\n",
    "\n",
    "fun(dgt)"
   ]
  },
  {
   "cell_type": "markdown",
   "id": "7ff63982-1a7b-4188-99dd-4b663880c13d",
   "metadata": {},
   "source": [
    "To let a function return a value, use the return statement:"
   ]
  },
  {
   "cell_type": "code",
   "execution_count": 57,
   "id": "dfc035cf-08f9-4d95-9390-e9ae394b3a17",
   "metadata": {},
   "outputs": [
    {
     "data": {
      "text/plain": [
       "(3, 6, 7, 8, 10, 12, 3, 6, 7, 8, 10, 12)"
      ]
     },
     "execution_count": 57,
     "metadata": {},
     "output_type": "execute_result"
    }
   ],
   "source": [
    "def fun(*digits):\n",
    "  return digits*2\n",
    "\n",
    "fun(3, 6, 7, 8, 10, 12)"
   ]
  },
  {
   "cell_type": "markdown",
   "id": "7483d33a-1e10-41eb-956d-d3d2b50dc9c1",
   "metadata": {},
   "source": [
    "### Empty Function in python"
   ]
  },
  {
   "cell_type": "code",
   "execution_count": 58,
   "id": "1a2d72e7-4094-4061-bbfc-49e2cf4ff4d7",
   "metadata": {},
   "outputs": [],
   "source": [
    "def fun(): \n",
    "    pass\n"
   ]
  },
  {
   "cell_type": "markdown",
   "id": "5999ae87-6004-4318-b7a0-38440497e851",
   "metadata": {},
   "source": [
    "### Module\n",
    "A module is a file containing Python definitions and statements. A module can define functions, classes, and variables. A module can also include runnable code. Grouping related code into a module makes the code easier to understand and use. It also makes the code logically organized."
   ]
  },
  {
   "cell_type": "markdown",
   "id": "ea0f2c1e-3629-4c4e-aa60-24fe89bd7c26",
   "metadata": {},
   "source": [
    "We can use any Python source file as a module by executing an import statement in some other Python source file. "
   ]
  },
  {
   "cell_type": "markdown",
   "id": "05aafa53-c761-47ce-bbe4-a430ea4fc31a",
   "metadata": {},
   "source": [
    "Python's from statement lets you import specific attributes from a module. The from .. import .. has the following syntax :\n"
   ]
  },
  {
   "cell_type": "code",
   "execution_count": 59,
   "id": "1be49423-25a7-4221-ac2f-be246786655f",
   "metadata": {},
   "outputs": [
    {
     "name": "stdout",
     "output_type": "stream",
     "text": [
      "4.0\n",
      "720\n"
     ]
    }
   ],
   "source": [
    "from math import sqrt, factorial\n",
    "\n",
    "print(sqrt(16))\n",
    "print(factorial(6))"
   ]
  },
  {
   "cell_type": "markdown",
   "id": "0c731440-8a57-422b-a262-40a88eb2f240",
   "metadata": {},
   "source": [
    "The * symbol used with the from import the statement is used to import all the names from a module to a current namespace."
   ]
  },
  {
   "cell_type": "code",
   "execution_count": 60,
   "id": "04746763-1ca9-4675-85b7-d9a9a4c600a8",
   "metadata": {},
   "outputs": [
    {
     "name": "stdout",
     "output_type": "stream",
     "text": [
      "['__call__', '__class__', '__delattr__', '__dir__', '__doc__', '__eq__', '__format__', '__ge__', '__getattribute__', '__gt__', '__hash__', '__init__', '__init_subclass__', '__le__', '__lt__', '__module__', '__name__', '__ne__', '__new__', '__qualname__', '__reduce__', '__reduce_ex__', '__repr__', '__self__', '__setattr__', '__sizeof__', '__str__', '__subclasshook__', '__text_signature__']\n"
     ]
    }
   ],
   "source": [
    "from random import *\n",
    "\n",
    "print(dir(random)) # dir() built-in function returns a sorted list of strings containing the names defined by a module."
   ]
  },
  {
   "cell_type": "markdown",
   "id": "d76e867b-1b15-46eb-88cf-810fb605d4b7",
   "metadata": {},
   "source": [
    "# List Comprehension"
   ]
  },
  {
   "cell_type": "markdown",
   "id": "822a8c86-6ba3-4c55-840b-985d0bc55212",
   "metadata": {},
   "source": [
    "List comprehensions are Python functions that are used for creating new sequences"
   ]
  },
  {
   "cell_type": "code",
   "execution_count": 62,
   "id": "ceb5bdee-ecb2-4d44-b91f-25e8598f523c",
   "metadata": {},
   "outputs": [
    {
     "name": "stdout",
     "output_type": "stream",
     "text": [
      "[1]\n",
      "[1, 4]\n",
      "[1, 4, 9]\n",
      "[1, 4, 9, 16]\n",
      "[1, 4, 9, 16, 25]\n",
      "[1, 4, 9, 16, 25, 36]\n",
      "[1, 4, 9, 16, 25, 36, 49]\n",
      "[1, 4, 9, 16, 25, 36, 49, 64]\n",
      "[1, 4, 9, 16, 25, 36, 49, 64, 81]\n"
     ]
    }
   ],
   "source": [
    "list = []\n",
    "for int in range(1, 10):\n",
    "    square =int ** 2\n",
    "    list.append(square)\n",
    "    print(list)"
   ]
  },
  {
   "cell_type": "code",
   "execution_count": 63,
   "id": "aa92f766-41ae-43f0-ac14-1d22ae47a2e8",
   "metadata": {},
   "outputs": [
    {
     "name": "stdout",
     "output_type": "stream",
     "text": [
      "List of squares using list comprehension: [1, 4, 9, 16, 25, 36, 49, 64, 81]\n"
     ]
    }
   ],
   "source": [
    "# with list comprehension\n",
    "list1 = [int**2 for int in range(1, 10)]\n",
    "print('List of squares using list comprehension: {}'.format(list1))"
   ]
  },
  {
   "cell_type": "markdown",
   "id": "958f9a08-7044-4dcc-b0e2-7e75dc2558dd",
   "metadata": {},
   "source": [
    "# Iterators"
   ]
  },
  {
   "cell_type": "markdown",
   "id": "0269480d-4d28-49cd-beff-45f28c771560",
   "metadata": {},
   "source": [
    "Python programming language provides following types of loops to handle looping requirements. Python provides three ways for executing the loops. While all the ways provide similar basic functionality, they differ in their syntax and condition checking time.\n",
    "### For Loop: For loops are used for sequential traversal\n",
    "### While Loop: while loop is used to execute a block of statements repeatedly until a given a condition is satisfied. \n",
    "### Nested Loop: to use one loop inside another loop"
   ]
  },
  {
   "cell_type": "code",
   "execution_count": 65,
   "id": "11a7bc9b-b706-4b78-9f9c-3a6567e726cb",
   "metadata": {},
   "outputs": [
    {
     "name": "stdout",
     "output_type": "stream",
     "text": [
      "Hello\n",
      "Hello\n",
      "Hello\n",
      "Hello\n",
      "Hello\n"
     ]
    }
   ],
   "source": [
    "count = 0\n",
    "while (count < 5):    \n",
    "    count = count + 1\n",
    "    print(\"Hello\")"
   ]
  },
  {
   "cell_type": "code",
   "execution_count": 66,
   "id": "23ed9e90-a592-489c-b59f-9d971123cd45",
   "metadata": {},
   "outputs": [
    {
     "name": "stdout",
     "output_type": "stream",
     "text": [
      "0\n",
      "1\n",
      "2\n",
      "3\n",
      "4\n"
     ]
    }
   ],
   "source": [
    "n = 5\n",
    "for i in range(0, n):\n",
    "    print(i)"
   ]
  },
  {
   "cell_type": "code",
   "execution_count": 67,
   "id": "24288f78-4563-454e-b10f-7da6c2422849",
   "metadata": {},
   "outputs": [
    {
     "name": "stdout",
     "output_type": "stream",
     "text": [
      "1 \n",
      "2 2 \n",
      "3 3 3 \n",
      "4 4 4 4 \n"
     ]
    }
   ],
   "source": [
    "from __future__ import print_function\n",
    "for i in range(1, 5):\n",
    "    for j in range(i):\n",
    "         print(i, end=' ')\n",
    "    print()"
   ]
  },
  {
   "cell_type": "markdown",
   "id": "034606df-8281-4b38-bfc5-bb69682697b0",
   "metadata": {},
   "source": [
    "# Generators"
   ]
  },
  {
   "cell_type": "markdown",
   "id": "9eba11a5-95a7-48cc-a281-b0262c7eb480",
   "metadata": {},
   "source": [
    "A generator-function is defined like a normal function, but whenever it needs to generate a value, it does so with the yield keyword rather than return. If the body of a def contains yield, the function automatically becomes a generator function."
   ]
  },
  {
   "cell_type": "code",
   "execution_count": 69,
   "id": "a7f07b24-e2cd-416e-8932-6a40f022ae99",
   "metadata": {},
   "outputs": [
    {
     "name": "stdout",
     "output_type": "stream",
     "text": [
      "1\n",
      "4\n",
      "9\n"
     ]
    }
   ],
   "source": [
    "def simpleGeneratorFun():\n",
    "    yield 1*1          \n",
    "    yield 2*2            \n",
    "    yield 3*3            \n",
    "   \n",
    "for value in simpleGeneratorFun(): \n",
    "    print(value)"
   ]
  },
  {
   "cell_type": "code",
   "execution_count": 79,
   "id": "8dd52781-b652-434c-aa0f-4003da594aed",
   "metadata": {},
   "outputs": [
    {
     "name": "stdout",
     "output_type": "stream",
     "text": [
      "0\n",
      "1\n",
      "1\n",
      "2\n",
      "3\n",
      "\n",
      "Using for in loop\n",
      "0\n",
      "1\n",
      "1\n",
      "2\n",
      "3\n"
     ]
    }
   ],
   "source": [
    "# A simple generator for Fibonacci Numbers\n",
    "def fib(limit):\n",
    "    a, b = 0, 1\n",
    "    while a < limit:   #One by one yield next Fibonacci Number\n",
    "        yield a\n",
    "        a, b = b, a + b\n",
    "\n",
    "# Create a generator object\n",
    "x = fib(5)\n",
    "# Iterating over the generator object using next\n",
    "print(x.__next__()) # In Python 3, __next__()\n",
    "print(x.__next__()) \n",
    "print(x.__next__()) \n",
    "print(x.__next__()) \n",
    "print(x.__next__()) \n",
    "print(\"\\nUsing for in loop\")\n",
    "for i in fib(5):\n",
    "    print(i)\n",
    "\n"
   ]
  }
 ],
 "metadata": {
  "kernelspec": {
   "display_name": "Python 3",
   "language": "python",
   "name": "python3"
  },
  "language_info": {
   "codemirror_mode": {
    "name": "ipython",
    "version": 3
   },
   "file_extension": ".py",
   "mimetype": "text/x-python",
   "name": "python",
   "nbconvert_exporter": "python",
   "pygments_lexer": "ipython3",
   "version": "3.8.5"
  }
 },
 "nbformat": 4,
 "nbformat_minor": 5
}
