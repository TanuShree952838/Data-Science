{
 "cells": [
  {
   "cell_type": "markdown",
   "id": "e4fd9a7b-db9d-43df-9757-f05e4dd470a5",
   "metadata": {},
   "source": [
    "# Classes and Objects in python"
   ]
  },
  {
   "cell_type": "markdown",
   "id": "eaf7a8d7-ee8f-4f2d-b9ad-82bd3a5f9720",
   "metadata": {},
   "source": [
    "### A class in python is the blueprint or template  from which specific objects are created.\n",
    "class Class_Name:\n",
    "   Statements\n",
    "   \n",
    "### object-name = class-name.(arguments)   "
   ]
  },
  {
   "cell_type": "markdown",
   "id": "bb827312-dbf0-43c3-ad6c-c0dd74cd679f",
   "metadata": {},
   "source": [
    "Some Basic terms for class\n",
    "\n",
    "1. Class variable  (Attributes) :- class variable is a variable that is shared by all the different objects/instances of a class.\n",
    "\n",
    "2. Instance/Object  variables :- Instance/Object  variables are variables which are unique to each instance. It is defined inside a method and belongs only to the current instance of a class. Basically  an objects is everything we can see around. for example - A person is an object of Human class.\n",
    "\n",
    "3. Methods (Behaviour) :- Methods are also called as functions which are defined in a class and describes the behaviour of an object."
   ]
  },
  {
   "cell_type": "code",
   "execution_count": 1,
   "id": "60429989-7eed-438e-a103-d58c73d6a5c9",
   "metadata": {},
   "outputs": [
    {
     "name": "stdout",
     "output_type": "stream",
     "text": [
      "Tanushree\n",
      "21\n"
     ]
    }
   ],
   "source": [
    "class Person:\n",
    "  def __init__(self, name, age):\n",
    "    self.name = name\n",
    "    self.age = age\n",
    "\n",
    "p1 = Person(\"Tanushree\", 21)\n",
    "\n",
    "print(p1.name)\n",
    "print(p1.age)"
   ]
  },
  {
   "cell_type": "markdown",
   "id": "335ac3e3-162a-4cfc-8aef-4e839b263fed",
   "metadata": {},
   "source": [
    "The __init__() function is called automatically every time the class is being used to create a new object"
   ]
  },
  {
   "cell_type": "code",
   "execution_count": 2,
   "id": "8e2f2e12-ccfd-43ac-8991-bf283107a678",
   "metadata": {},
   "outputs": [
    {
     "name": "stdout",
     "output_type": "stream",
     "text": [
      "Hello my name is Tanushreeand my age is 21\n"
     ]
    }
   ],
   "source": [
    "class Person:\n",
    "  def __init__(self, name, age):\n",
    "    self.name = name\n",
    "    self.age = age\n",
    "\n",
    "  def myfunc(self):\n",
    "    print(\"Hello my name is \" + self.name + \"and my age is \" + str(self.age))\n",
    "\n",
    "p1 = Person(\"Tanushree\", 21)\n",
    "p1.myfunc()"
   ]
  },
  {
   "cell_type": "markdown",
   "id": "179c66e0-199f-4682-9832-acd0d27bc354",
   "metadata": {},
   "source": [
    "Note:- self is kind of By-default parameter , If we have a method which takes no arguments, then we still have to have one argument. "
   ]
  },
  {
   "cell_type": "code",
   "execution_count": 3,
   "id": "c6d53b28-ee9c-4865-acc8-cefbd9ad9fbf",
   "metadata": {},
   "outputs": [
    {
     "name": "stdout",
     "output_type": "stream",
     "text": [
      "Hello my name is Tanushree and my age is 21\n"
     ]
    }
   ],
   "source": [
    "class Person:\n",
    "  def __init__(mysillyobject, name, age):\n",
    "    mysillyobject.name = name\n",
    "    mysillyobject.age = age\n",
    "\n",
    "  def myfunc(abc):\n",
    "    print(\"Hello my name is \" + abc.name+ \" and my age is \"+ str(abc.age))\n",
    "\n",
    "p1 = Person(\"Tanushree\", 21)\n",
    "p1.myfunc()"
   ]
  },
  {
   "cell_type": "markdown",
   "id": "ebfcf979-8681-4f98-b4bd-d114127cd41b",
   "metadata": {},
   "source": [
    "# Closures and Decorators"
   ]
  },
  {
   "cell_type": "markdown",
   "id": "efa88f83-16d8-4e83-a4fc-5b319733a47e",
   "metadata": {},
   "source": [
    "A closure is a nested function which has access to a free variable from an enclosing function that has finished its execution. Three characteristics of a Python closure are:\n",
    "1. It is a nested function\n",
    "2. It has access to a free variable in outer scope\n",
    "3. It is returned from the enclosing function"
   ]
  },
  {
   "cell_type": "code",
   "execution_count": 4,
   "id": "156b8301-2ae7-4bc8-ad99-78965805334d",
   "metadata": {},
   "outputs": [
    {
     "name": "stdout",
     "output_type": "stream",
     "text": [
      "60\n",
      "20\n"
     ]
    }
   ],
   "source": [
    "def getmultiply( m ):\n",
    "    def op(n):\n",
    "        return m * n\n",
    "    return op\n",
    " \n",
    "f1=getmultiply(15)\n",
    "f2=getmultiply(5)\n",
    " \n",
    "print( f1(4) )\n",
    "print( f2(4) )"
   ]
  },
  {
   "cell_type": "markdown",
   "id": "e49ef5ec-be61-447b-9d98-94b9e43dedc5",
   "metadata": {},
   "source": [
    "Decorator is a design pattern – function that takes another function as a parameter and extends its behavior without modifying it.\n",
    "Decorators are very powerful and useful tool in Python since it allows programmers to modify the behavior of function or class.\n",
    "@ DECORATOR"
   ]
  },
  {
   "cell_type": "code",
   "execution_count": 5,
   "id": "0c44d050-8109-4d11-ba2c-b3bdfb759c4d",
   "metadata": {},
   "outputs": [
    {
     "name": "stdout",
     "output_type": "stream",
     "text": [
      "********************\n",
      "data science\n",
      "********************\n"
     ]
    }
   ],
   "source": [
    "def add_stars( some_function ):\n",
    "    def wrapper():\n",
    "        print(\"********************\")\n",
    "        some_function()\n",
    "        print(\"********************\")\n",
    "    return wrapper\n",
    " \n",
    "@add_stars\n",
    "def my_function():\n",
    "    print(\"data science\")\n",
    " \n",
    "my_function()"
   ]
  },
  {
   "cell_type": "markdown",
   "id": "d71ab322-c1b9-48ae-8565-c5e48cf2305d",
   "metadata": {},
   "source": [
    "# Descriptors and Properties"
   ]
  },
  {
   "cell_type": "markdown",
   "id": "d6af6dfe-f953-4155-a6da-55fe771fcc9b",
   "metadata": {},
   "source": [
    "A Descriptor is a class which provides detailed **get, set, and delete** control over an attribute of another object. This allows us to define attributes which are fairly complex objects in their own right. The idea is that we can use simple attribute references in a program, but those simple references are actually method functions of a descriptor object."
   ]
  },
  {
   "cell_type": "code",
   "execution_count": 6,
   "id": "6ca08e81-5d6d-475f-9f11-2f58d1bea1b0",
   "metadata": {},
   "outputs": [
    {
     "name": "stdout",
     "output_type": "stream",
     "text": [
      "Tanushree Sharma\n"
     ]
    }
   ],
   "source": [
    "class Descriptor(object):\n",
    "  \n",
    "    def __init__(self, name =''):\n",
    "        self.name = name\n",
    "  \n",
    "    def __get__(self, obj, objtype):\n",
    "        return \"{}\".format(self.name, self.name)\n",
    "  \n",
    "    def __set__(self, obj, name):\n",
    "        if isinstance(name, str):\n",
    "            self.name = name\n",
    "        else:\n",
    "            raise TypeError(\"Name should be string\")\n",
    "          \n",
    "class Name(object):\n",
    "    name = Descriptor()\n",
    "    \n",
    "g = Name()\n",
    "g.name = \"Tanushree Sharma\"\n",
    "print(g.name)"
   ]
  },
  {
   "cell_type": "code",
   "execution_count": 7,
   "id": "24f8e99c-08d7-406e-99f8-bc1002c0d327",
   "metadata": {},
   "outputs": [
    {
     "name": "stdout",
     "output_type": "stream",
     "text": [
      "Getting value\n",
      "Tanushree\n",
      "Setting value to Sharma\n",
      "Deleting value\n"
     ]
    }
   ],
   "source": [
    "class Alphabet: \n",
    "    def __init__(self, value): \n",
    "        self._value = value \n",
    "            \n",
    "    # getting the values     \n",
    "    @property\n",
    "    def value(self): \n",
    "        print('Getting value') \n",
    "        return self._value \n",
    "            \n",
    "    # setting the values     \n",
    "    @value.setter \n",
    "    def value(self, value): \n",
    "        print('Setting value to ' + value) \n",
    "        self._value = value \n",
    "            \n",
    "    # deleting the values \n",
    "    @value.deleter \n",
    "    def value(self): \n",
    "        print('Deleting value') \n",
    "        del self._value \n",
    "    \n",
    "    \n",
    "# passing the value \n",
    "x = Alphabet('Tanushree') \n",
    "print(x.value) \n",
    "    \n",
    "x.value = 'Sharma'\n",
    "del x.value"
   ]
  },
  {
   "cell_type": "markdown",
   "id": "29e53670-3a69-4ef8-bcc4-8284206b33f9",
   "metadata": {},
   "source": [
    "**Note** :- Python uses methods like getters and setters to adjust the values on attributes without any special processing. It’s just a basic storage system. Sometimes, You might need to validate the values that are being assigned to a value. A descriptor is a mechanism behind properties, methods, static methods, class methods, and super()."
   ]
  }
 ],
 "metadata": {
  "kernelspec": {
   "display_name": "Python 3",
   "language": "python",
   "name": "python3"
  },
  "language_info": {
   "codemirror_mode": {
    "name": "ipython",
    "version": 3
   },
   "file_extension": ".py",
   "mimetype": "text/x-python",
   "name": "python",
   "nbconvert_exporter": "python",
   "pygments_lexer": "ipython3",
   "version": "3.8.5"
  }
 },
 "nbformat": 4,
 "nbformat_minor": 5
}
