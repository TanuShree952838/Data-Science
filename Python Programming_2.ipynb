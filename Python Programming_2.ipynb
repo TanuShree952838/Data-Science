{
 "cells": [
  {
   "cell_type": "markdown",
   "id": "91fc0183-cc4e-4e10-a74c-b7baa9c413bd",
   "metadata": {},
   "source": [
    "# Indexing with sequences"
   ]
  },
  {
   "cell_type": "markdown",
   "id": "431ae3dd-e2fe-4d7a-adf8-2745d61b9882",
   "metadata": {},
   "source": [
    "Like other programming languages, it's possible to access individual characters of a string by using array-like indexing syntax. In this we can access each and every element of string through their index number and the indexing starts from 0. Python does index out of bound checking.\n",
    "\n",
    "### syntax, string_name[index_position]\n",
    "\n",
    "The positive index_position denotes the element from the starting(0) and the negative index shows the index from the end(-1)."
   ]
  },
  {
   "cell_type": "code",
   "execution_count": 1,
   "id": "dfdaa002-4720-4f48-8b4a-5738d4e990f8",
   "metadata": {},
   "outputs": [
    {
     "name": "stdout",
     "output_type": "stream",
     "text": [
      "t\n",
      "c\n",
      "h\n",
      "t\n",
      "Data Science With Python\n"
     ]
    }
   ],
   "source": [
    "x = \"Data Science With Python\"\n",
    "print (x[2]) \n",
    "print (x[6]) \n",
    "print (x[-3]) \n",
    "print (x[15])\n",
    "print(x)"
   ]
  },
  {
   "cell_type": "code",
   "execution_count": 3,
   "id": "e30f9aec-7f4a-49c4-89c7-22e163ec4df6",
   "metadata": {},
   "outputs": [
    {
     "name": "stdout",
     "output_type": "stream",
     "text": [
      "Data\n",
      "10\n",
      "30\n",
      "100\n",
      "[20, 'Science', 10, 'With']\n",
      "['Data', 20, 'Science', 10, 'With', 30, 'Python', 40, 20, 50, 10, 60, 30, 80, 100]\n"
     ]
    }
   ],
   "source": [
    "list = ['Data',20, 'Science',10, 'With',30, 'Python',40,20, 50 ,10, 60, 30, 80 ,100]\n",
    "print (list[0]) \n",
    "print (list[3]) \n",
    "print (list[-3]) \n",
    "print (list[-1])\n",
    "print(list[1:5])\n",
    "print(list)\n"
   ]
  },
  {
   "cell_type": "markdown",
   "id": "0737c528-b2bc-44f9-94e6-089feb2a7ba5",
   "metadata": {},
   "source": [
    "# Slicing with sequences "
   ]
  },
  {
   "cell_type": "markdown",
   "id": "0a890948-179b-4fce-a1fd-1d3bc2625e4b",
   "metadata": {},
   "source": [
    "We can also slice the string using beginning and only and steps are optional.\n",
    "### string_name[beginning: end : step]\n",
    "*beginning represents the starting index of string\n",
    "*end denotes the end index of string which is not inclusive \n",
    "*steps denotes the distance between the two words."
   ]
  },
  {
   "cell_type": "code",
   "execution_count": 12,
   "id": "306a8e84-28e8-45bc-ae5d-5247835ed5b7",
   "metadata": {},
   "outputs": [
    {
     "name": "stdout",
     "output_type": "stream",
     "text": [
      "['Science', 10, 'With', 30, 'Python', 40, 20, 50, 10, 60, 30, 80, 100]\n",
      "['Science', 'With', 'Python', 20]\n",
      "['Science', 30, 20, 60, 100]\n",
      "[100, 80, 30, 60, 10, 50, 20, 40, 'Python', 30, 'With', 10, 'Science', 20, 'Data']\n",
      "[100, 30, 10, 20, 'Python', 'With', 'Science', 'Data']\n"
     ]
    }
   ],
   "source": [
    "print (list[2:]) \n",
    "print (list[2:9:2]) \n",
    "print (list[2::3]) \n",
    "print (list[::-1]) #reverse \n",
    "print (list[::-2])"
   ]
  },
  {
   "cell_type": "markdown",
   "id": "26ac8335-a4dc-4b6d-836b-93933c7302ad",
   "metadata": {},
   "source": [
    "# Exceptinal Handling"
   ]
  },
  {
   "cell_type": "markdown",
   "id": "0f04e1e6-ae70-4272-be18-0440df3e8504",
   "metadata": {},
   "source": [
    "Error in Python can be of two types i.e. Syntax errors and Exceptions. Errors are the problems in a program due to which the program will stop the execution. On the other hand, exceptions are raised when some internal events occur which changes the normal flow of the program."
   ]
  },
  {
   "cell_type": "markdown",
   "id": "d8ad53b8-b6bf-458f-9173-85a81801d722",
   "metadata": {},
   "source": [
    "### Syntax Error:\n",
    "As the name suggest this error is caused by wrong syntax in the code. It leads to the termination of the program"
   ]
  },
  {
   "cell_type": "code",
   "execution_count": 15,
   "id": "4e3d0c14-98a7-4926-b86c-bdf2ad7b35f9",
   "metadata": {},
   "outputs": [
    {
     "ename": "SyntaxError",
     "evalue": "invalid syntax (<ipython-input-15-520760c901ef>, line 2)",
     "output_type": "error",
     "traceback": [
      "\u001b[1;36m  File \u001b[1;32m\"<ipython-input-15-520760c901ef>\"\u001b[1;36m, line \u001b[1;32m2\u001b[0m\n\u001b[1;33m    if(amount>2999)\u001b[0m\n\u001b[1;37m                   ^\u001b[0m\n\u001b[1;31mSyntaxError\u001b[0m\u001b[1;31m:\u001b[0m invalid syntax\n"
     ]
    }
   ],
   "source": [
    "amount = 10000\n",
    "if(amount>2999)\n",
    "    print(\"You are eligible to purchase\")"
   ]
  },
  {
   "cell_type": "markdown",
   "id": "86faf73c-e8ad-459e-98b3-722665496cb5",
   "metadata": {},
   "source": [
    "### Exceptions:\n",
    "Exceptions are raised when the program is syntactically correct but the code resulted in an error. This error does not stop the execution of the program, however, it changes the normal flow of the program."
   ]
  },
  {
   "cell_type": "code",
   "execution_count": 16,
   "id": "4c8f030a-65aa-41ad-9b49-243dc8491d69",
   "metadata": {},
   "outputs": [
    {
     "ename": "ZeroDivisionError",
     "evalue": "division by zero",
     "output_type": "error",
     "traceback": [
      "\u001b[1;31m---------------------------------------------------------------------------\u001b[0m",
      "\u001b[1;31mZeroDivisionError\u001b[0m                         Traceback (most recent call last)",
      "\u001b[1;32m<ipython-input-16-db5b08269993>\u001b[0m in \u001b[0;36m<module>\u001b[1;34m\u001b[0m\n\u001b[0;32m      1\u001b[0m \u001b[0mmarks\u001b[0m \u001b[1;33m=\u001b[0m \u001b[1;36m10000\u001b[0m\u001b[1;33m\u001b[0m\u001b[1;33m\u001b[0m\u001b[0m\n\u001b[0;32m      2\u001b[0m \u001b[1;31m# perform division with 0\u001b[0m\u001b[1;33m\u001b[0m\u001b[1;33m\u001b[0m\u001b[1;33m\u001b[0m\u001b[0m\n\u001b[1;32m----> 3\u001b[1;33m \u001b[0ma\u001b[0m \u001b[1;33m=\u001b[0m \u001b[0mmarks\u001b[0m \u001b[1;33m/\u001b[0m \u001b[1;36m0\u001b[0m\u001b[1;33m\u001b[0m\u001b[1;33m\u001b[0m\u001b[0m\n\u001b[0m\u001b[0;32m      4\u001b[0m \u001b[0mprint\u001b[0m\u001b[1;33m(\u001b[0m\u001b[0ma\u001b[0m\u001b[1;33m)\u001b[0m\u001b[1;33m\u001b[0m\u001b[1;33m\u001b[0m\u001b[0m\n",
      "\u001b[1;31mZeroDivisionError\u001b[0m: division by zero"
     ]
    }
   ],
   "source": [
    "marks = 10000\n",
    "# perform division with 0\n",
    "a = marks / 0\n",
    "print(a)"
   ]
  },
  {
   "cell_type": "code",
   "execution_count": null,
   "id": "ae7e65f9-cfcc-4dda-8e94-a4fb5293726a",
   "metadata": {},
   "outputs": [],
   "source": [
    "##Try and Except in Exception Handling"
   ]
  },
  {
   "cell_type": "code",
   "execution_count": 19,
   "id": "bf4b0f28-3ff2-49db-b3dc-f2db6298b940",
   "metadata": {},
   "outputs": [
    {
     "name": "stdout",
     "output_type": "stream",
     "text": [
      "Second element = 2\n",
      "An error occurred\n"
     ]
    }
   ],
   "source": [
    "a = [1, 2, 3, 4, 5]\n",
    "try: \n",
    "    print(\"Second element = %d\" %(a[1]))\n",
    "  \n",
    "    # Throws error since there are only 4 elements in array\n",
    "    print(\"Fourth element = %d\" %(a[8]))\n",
    "  \n",
    "except IndexError:\n",
    "    print(\"An error occurred\")"
   ]
  },
  {
   "cell_type": "code",
   "execution_count": 21,
   "id": "2f96e3cb-d649-40b7-acd4-db7e3db83377",
   "metadata": {},
   "outputs": [
    {
     "name": "stdout",
     "output_type": "stream",
     "text": [
      "\n",
      "Error Occurred and Handled\n"
     ]
    }
   ],
   "source": [
    "# Program to handle multiple errors with one except statement\n",
    "try : \n",
    "    a = 3\n",
    "    if a < 4 :\n",
    "  \n",
    "        # throws ZeroDivisionError for a = 3 \n",
    "        b = a/(a-3)\n",
    "      \n",
    "    # throws NameError if a >= 4\n",
    "    print(\"Value of b = \", b)\n",
    "  \n",
    "# note that braces () are necessary here for multiple exceptions\n",
    "except(ZeroDivisionError, NameError):\n",
    "    print(\"\\nError Occurred and Handled\")"
   ]
  },
  {
   "cell_type": "markdown",
   "id": "ccffc35c-166c-4e0b-bc28-e017579f8066",
   "metadata": {},
   "source": [
    "### Else Clause\n",
    "We can also use else clause on the try-except block which must be present after all the except clauses. The code enters the else block only if the try clause does not raise an exception."
   ]
  },
  {
   "cell_type": "code",
   "execution_count": 24,
   "id": "f7c54080-d410-4d2c-8d76-c68cadb9ee71",
   "metadata": {},
   "outputs": [
    {
     "name": "stdout",
     "output_type": "stream",
     "text": [
      "-5.0\n",
      "a/b result in 0\n"
     ]
    }
   ],
   "source": [
    "# Function which returns a/b\n",
    "def AbyB(a , b):\n",
    "    try:\n",
    "        c = ((a+b) / (a-b))\n",
    "    except ZeroDivisionError:\n",
    "        print(\"a/b result in 0\")\n",
    "    else:\n",
    "        print(c)\n",
    "  \n",
    "# Driver program to test above function\n",
    "AbyB(2.0, 3.0)\n",
    "AbyB(3.0, 3.0)"
   ]
  },
  {
   "cell_type": "markdown",
   "id": "caabc2c9-342d-44a5-8f37-065cc438ee44",
   "metadata": {},
   "source": [
    "### Finally Keyword\n",
    "It is always executed after try and except blocks. The finally block always executes after normal termination of try block or after try block terminates due to some exception."
   ]
  },
  {
   "cell_type": "raw",
   "id": "5cf88b9c-5abe-430a-866c-76e588751d65",
   "metadata": {},
   "source": [
    "try:\n",
    "      # Some Code.... \n",
    "\n",
    "except:\n",
    "      # optional block\n",
    "      # Handling of exception (if required)\n",
    "\n",
    "else:\n",
    "      # execute if no exception\n",
    "\n",
    "finally:\n",
    "      # Some code .....(always executed)"
   ]
  },
  {
   "cell_type": "code",
   "execution_count": 25,
   "id": "7ba3ecb1-85d4-4a04-9493-2d03b30f0d5b",
   "metadata": {},
   "outputs": [
    {
     "name": "stdout",
     "output_type": "stream",
     "text": [
      "Can't divide by zero\n",
      "This is always executed\n"
     ]
    }
   ],
   "source": [
    "try: \n",
    "    k = 5//0 # raises divide by zero exception. \n",
    "    print(k) \n",
    "    \n",
    "# handles zerodivision exception     \n",
    "except ZeroDivisionError:    \n",
    "    print(\"Can't divide by zero\") \n",
    "        \n",
    "finally: \n",
    "    # this block is always executed  \n",
    "    # regardless of exception generation. \n",
    "    print('This is always executed')  "
   ]
  },
  {
   "cell_type": "markdown",
   "id": "4c291168-fc26-4f4f-a684-db1bb4ee9610",
   "metadata": {},
   "source": [
    "### Raising Exception\n",
    "The raise statement allows the programmer to force a specific exception to occur. The sole argument in raise indicates the exception to be raised. This must be either an exception instance or an exception class (a class that derives from Exception)."
   ]
  },
  {
   "cell_type": "code",
   "execution_count": 28,
   "id": "95adf239-ef10-4b1c-a985-790509d33046",
   "metadata": {},
   "outputs": [
    {
     "name": "stdout",
     "output_type": "stream",
     "text": [
      "An exception\n"
     ]
    },
    {
     "ename": "NameError",
     "evalue": "Hello",
     "output_type": "error",
     "traceback": [
      "\u001b[1;31m---------------------------------------------------------------------------\u001b[0m",
      "\u001b[1;31mNameError\u001b[0m                                 Traceback (most recent call last)",
      "\u001b[1;32m<ipython-input-28-15a0d007e6b2>\u001b[0m in \u001b[0;36m<module>\u001b[1;34m\u001b[0m\n\u001b[0;32m      1\u001b[0m \u001b[1;31m# Program to depict Raising Exception\u001b[0m\u001b[1;33m\u001b[0m\u001b[1;33m\u001b[0m\u001b[1;33m\u001b[0m\u001b[0m\n\u001b[0;32m      2\u001b[0m \u001b[1;32mtry\u001b[0m\u001b[1;33m:\u001b[0m\u001b[1;33m\u001b[0m\u001b[1;33m\u001b[0m\u001b[0m\n\u001b[1;32m----> 3\u001b[1;33m     \u001b[1;32mraise\u001b[0m \u001b[0mNameError\u001b[0m\u001b[1;33m(\u001b[0m\u001b[1;34m\"Hello\"\u001b[0m\u001b[1;33m)\u001b[0m  \u001b[1;31m# Raise Error\u001b[0m\u001b[1;33m\u001b[0m\u001b[1;33m\u001b[0m\u001b[0m\n\u001b[0m\u001b[0;32m      4\u001b[0m \u001b[1;32mexcept\u001b[0m \u001b[0mNameError\u001b[0m\u001b[1;33m:\u001b[0m\u001b[1;33m\u001b[0m\u001b[1;33m\u001b[0m\u001b[0m\n\u001b[0;32m      5\u001b[0m     \u001b[0mprint\u001b[0m\u001b[1;33m(\u001b[0m\u001b[1;34m\"An exception\"\u001b[0m\u001b[1;33m)\u001b[0m\u001b[1;33m\u001b[0m\u001b[1;33m\u001b[0m\u001b[0m\n",
      "\u001b[1;31mNameError\u001b[0m: Hello"
     ]
    }
   ],
   "source": [
    "# Program to depict Raising Exception\n",
    "try: \n",
    "    raise NameError(\"Hello\")  # Raise Error\n",
    "except NameError:\n",
    "    print(\"An exception\")\n",
    "    raise  # To determine whether the exception was raised or not"
   ]
  },
  {
   "cell_type": "markdown",
   "id": "bc8b5adc-80b2-40f5-9270-4d59ee523f9f",
   "metadata": {},
   "source": [
    "# Regular Exprssion\n",
    "Regular Expression is a tool for matching patterns in text. With the help of regular expression we can find, match and replace text in string."
   ]
  },
  {
   "cell_type": "code",
   "execution_count": 29,
   "id": "de360acb-d784-4460-a251-6ee81b032c80",
   "metadata": {},
   "outputs": [],
   "source": [
    "import re"
   ]
  },
  {
   "cell_type": "code",
   "execution_count": 33,
   "id": "cffe5277-5bed-4e2a-b85c-80e1f80f95e8",
   "metadata": {},
   "outputs": [
    {
     "name": "stdout",
     "output_type": "stream",
     "text": [
      "['ata', 'cience', 'with', 'python']\n"
     ]
    }
   ],
   "source": [
    "s='Data Science with python'\n",
    "print(re.findall('[a-z]+',s))"
   ]
  },
  {
   "cell_type": "code",
   "execution_count": 45,
   "id": "fabbed4a-47cc-434c-8e06-1ba1bb6af726",
   "metadata": {},
   "outputs": [
    {
     "name": "stdout",
     "output_type": "stream",
     "text": [
      "['e', 'l', 'l', 'o']\n"
     ]
    }
   ],
   "source": [
    "s=re.compile('[a-t]')\n",
    "print(s.findall(\"Hello\"))    "
   ]
  },
  {
   "cell_type": "code",
   "execution_count": 59,
   "id": "9f796b09-ce76-45f7-a056-4eb21719c698",
   "metadata": {},
   "outputs": [
    {
     "name": "stdout",
     "output_type": "stream",
     "text": [
      "['python']\n"
     ]
    }
   ],
   "source": [
    "s='Data Science with python'\n",
    "print(re.findall(r\"\\b\\w{6}\\b\",s))"
   ]
  },
  {
   "cell_type": "code",
   "execution_count": 60,
   "id": "cc2bef3b-50ae-48bd-9ba7-4e1e6d570c09",
   "metadata": {},
   "outputs": [
    {
     "name": "stdout",
     "output_type": "stream",
     "text": [
      "['Data', 'with']\n"
     ]
    }
   ],
   "source": [
    "print(re.findall(r\"\\b\\w{1,4}\\b\",s))"
   ]
  },
  {
   "cell_type": "code",
   "execution_count": 63,
   "id": "de937b62-ac95-4197-9775-0f36e103dff7",
   "metadata": {},
   "outputs": [
    {
     "name": "stdout",
     "output_type": "stream",
     "text": [
      "['MAchine Learning And Artificial Intelligence']\n"
     ]
    }
   ],
   "source": [
    "print(re.split('\\d+','MAchine Learning And Artificial Intelligence',1))"
   ]
  }
 ],
 "metadata": {
  "kernelspec": {
   "display_name": "Python 3",
   "language": "python",
   "name": "python3"
  },
  "language_info": {
   "codemirror_mode": {
    "name": "ipython",
    "version": 3
   },
   "file_extension": ".py",
   "mimetype": "text/x-python",
   "name": "python",
   "nbconvert_exporter": "python",
   "pygments_lexer": "ipython3",
   "version": "3.8.5"
  }
 },
 "nbformat": 4,
 "nbformat_minor": 5
}
