{
 "cells": [
  {
   "cell_type": "markdown",
   "id": "surprising-liverpool",
   "metadata": {},
   "source": [
    "# Numpy & Scipy"
   ]
  },
  {
   "cell_type": "markdown",
   "id": "a91b8a8e-e30b-4cc5-b137-2e690dbe4cf5",
   "metadata": {},
   "source": [
    "Numpy stands for Numerical Python and Scipy stands for Scientific Python.\n",
    "Numpy and Scipy are fundamental packages for scientific computation/programming."
   ]
  },
  {
   "cell_type": "markdown",
   "id": "92d6ef0a-0c2a-4766-ab24-2773bbb2b26d",
   "metadata": {},
   "source": [
    "Scientific Programmimg deals with solving scientific or mathematical problems with the help of computer.\n",
    "Scientific Languages are MATLAB, FORTRAN, ALGOL, APL, etc. "
   ]
  },
  {
   "cell_type": "markdown",
   "id": "b0f7f675-a998-48c3-8155-4fd26ed9d6d7",
   "metadata": {},
   "source": [
    "### Why Numpy & Scipy?"
   ]
  },
  {
   "cell_type": "markdown",
   "id": "97b4b3b6-7766-47f4-a5c7-d6f411695a6f",
   "metadata": {},
   "source": [
    "The basic operations used in Scientific programming includes array, matrices, integration, differential equation solver, statistics, etc. But python bydefault don,t have any of the fundamental built-in except for some basic operations. Numpy specialised in numerical proccesing through multidimentional array. Scipy is built on the Numpy framework and take the whole scientific to new level by supporting advanced mathmatical functions."
   ]
  },
  {
   "cell_type": "markdown",
   "id": "57aa4bbe-d055-4dbc-972a-cd70d51dfd33",
   "metadata": {},
   "source": [
    "## Descriptive Statistics\n",
    "Descriptive Statistics process describes the basic features of data in a study. It delivers summaries on the sample and the measures and does not use the data to learn about the population it represents."
   ]
  },
  {
   "cell_type": "code",
   "execution_count": 1,
   "id": "c3d5096b-9e8f-4779-82fa-bf495aaa77ff",
   "metadata": {},
   "outputs": [],
   "source": [
    "# importing neccesary libraries\n",
    "import numpy as np\n",
    "import pandas as pd"
   ]
  },
  {
   "cell_type": "code",
   "execution_count": 2,
   "id": "419b3228-53d3-4a4b-b63b-53b2145fb738",
   "metadata": {},
   "outputs": [
    {
     "data": {
      "text/html": [
       "<div>\n",
       "<style scoped>\n",
       "    .dataframe tbody tr th:only-of-type {\n",
       "        vertical-align: middle;\n",
       "    }\n",
       "\n",
       "    .dataframe tbody tr th {\n",
       "        vertical-align: top;\n",
       "    }\n",
       "\n",
       "    .dataframe thead th {\n",
       "        text-align: right;\n",
       "    }\n",
       "</style>\n",
       "<table border=\"1\" class=\"dataframe\">\n",
       "  <thead>\n",
       "    <tr style=\"text-align: right;\">\n",
       "      <th></th>\n",
       "      <th>Rank</th>\n",
       "      <th>Title</th>\n",
       "      <th>Genre</th>\n",
       "      <th>Description</th>\n",
       "      <th>Director</th>\n",
       "      <th>Actors</th>\n",
       "      <th>Year</th>\n",
       "      <th>Runtime (Minutes)</th>\n",
       "      <th>Rating</th>\n",
       "      <th>Votes</th>\n",
       "      <th>Revenue (Millions)</th>\n",
       "      <th>Metascore</th>\n",
       "    </tr>\n",
       "  </thead>\n",
       "  <tbody>\n",
       "    <tr>\n",
       "      <th>0</th>\n",
       "      <td>1</td>\n",
       "      <td>Guardians of the Galaxy</td>\n",
       "      <td>Action,Adventure,Sci-Fi</td>\n",
       "      <td>A group of intergalactic criminals are forced ...</td>\n",
       "      <td>James Gunn</td>\n",
       "      <td>Chris Pratt, Vin Diesel, Bradley Cooper, Zoe S...</td>\n",
       "      <td>2014</td>\n",
       "      <td>121</td>\n",
       "      <td>8.1</td>\n",
       "      <td>757074</td>\n",
       "      <td>333.13</td>\n",
       "      <td>76.0</td>\n",
       "    </tr>\n",
       "    <tr>\n",
       "      <th>1</th>\n",
       "      <td>2</td>\n",
       "      <td>Prometheus</td>\n",
       "      <td>Adventure,Mystery,Sci-Fi</td>\n",
       "      <td>Following clues to the origin of mankind, a te...</td>\n",
       "      <td>Ridley Scott</td>\n",
       "      <td>Noomi Rapace, Logan Marshall-Green, Michael Fa...</td>\n",
       "      <td>2012</td>\n",
       "      <td>124</td>\n",
       "      <td>7.0</td>\n",
       "      <td>485820</td>\n",
       "      <td>126.46</td>\n",
       "      <td>65.0</td>\n",
       "    </tr>\n",
       "    <tr>\n",
       "      <th>2</th>\n",
       "      <td>3</td>\n",
       "      <td>Split</td>\n",
       "      <td>Horror,Thriller</td>\n",
       "      <td>Three girls are kidnapped by a man with a diag...</td>\n",
       "      <td>M. Night Shyamalan</td>\n",
       "      <td>James McAvoy, Anya Taylor-Joy, Haley Lu Richar...</td>\n",
       "      <td>2016</td>\n",
       "      <td>117</td>\n",
       "      <td>7.3</td>\n",
       "      <td>157606</td>\n",
       "      <td>138.12</td>\n",
       "      <td>62.0</td>\n",
       "    </tr>\n",
       "  </tbody>\n",
       "</table>\n",
       "</div>"
      ],
      "text/plain": [
       "   Rank                    Title                     Genre  \\\n",
       "0     1  Guardians of the Galaxy   Action,Adventure,Sci-Fi   \n",
       "1     2               Prometheus  Adventure,Mystery,Sci-Fi   \n",
       "2     3                    Split           Horror,Thriller   \n",
       "\n",
       "                                         Description            Director  \\\n",
       "0  A group of intergalactic criminals are forced ...          James Gunn   \n",
       "1  Following clues to the origin of mankind, a te...        Ridley Scott   \n",
       "2  Three girls are kidnapped by a man with a diag...  M. Night Shyamalan   \n",
       "\n",
       "                                              Actors  Year  Runtime (Minutes)  \\\n",
       "0  Chris Pratt, Vin Diesel, Bradley Cooper, Zoe S...  2014                121   \n",
       "1  Noomi Rapace, Logan Marshall-Green, Michael Fa...  2012                124   \n",
       "2  James McAvoy, Anya Taylor-Joy, Haley Lu Richar...  2016                117   \n",
       "\n",
       "   Rating   Votes  Revenue (Millions)  Metascore  \n",
       "0     8.1  757074              333.13       76.0  \n",
       "1     7.0  485820              126.46       65.0  \n",
       "2     7.3  157606              138.12       62.0  "
      ]
     },
     "execution_count": 2,
     "metadata": {},
     "output_type": "execute_result"
    }
   ],
   "source": [
    "data = pd.read_csv(\"IMDB-Movie-Data.csv\")\n",
    "data.head(3)"
   ]
  },
  {
   "cell_type": "code",
   "execution_count": 3,
   "id": "18dbdbee-06f6-4125-a3be-c57d12b2f305",
   "metadata": {},
   "outputs": [],
   "source": [
    "import scipy\n",
    "from scipy import stats"
   ]
  },
  {
   "cell_type": "code",
   "execution_count": 4,
   "id": "ab4fbf15-e18f-45d7-90a3-713b56d4eafb",
   "metadata": {},
   "outputs": [
    {
     "data": {
      "text/plain": [
       "Rank                                                             500500\n",
       "Title                 Guardians of the GalaxyPrometheusSplitSingSuic...\n",
       "Genre                 Action,Adventure,Sci-FiAdventure,Mystery,Sci-F...\n",
       "Description           A group of intergalactic criminals are forced ...\n",
       "Director              James GunnRidley ScottM. Night ShyamalanChrist...\n",
       "Actors                Chris Pratt, Vin Diesel, Bradley Cooper, Zoe S...\n",
       "Year                                                            2012783\n",
       "Runtime (Minutes)                                                113172\n",
       "Rating                                                           6723.2\n",
       "Votes                                                         169808255\n",
       "Revenue (Millions)                                                72338\n",
       "Metascore                                                         55210\n",
       "dtype: object"
      ]
     },
     "execution_count": 4,
     "metadata": {},
     "output_type": "execute_result"
    }
   ],
   "source": [
    "data.sum()"
   ]
  },
  {
   "cell_type": "code",
   "execution_count": 5,
   "id": "6e8052ae-bcc3-4ff0-b28a-c10ccb24bcba",
   "metadata": {},
   "outputs": [
    {
     "data": {
      "text/plain": [
       "0      759627.23\n",
       "1      488156.46\n",
       "2      159949.42\n",
       "3       63009.52\n",
       "4      396242.22\n",
       "         ...    \n",
       "995     30758.20\n",
       "996     76319.04\n",
       "997     73917.21\n",
       "998      8014.60\n",
       "999     15573.94\n",
       "Length: 1000, dtype: float64"
      ]
     },
     "execution_count": 5,
     "metadata": {},
     "output_type": "execute_result"
    }
   ],
   "source": [
    "data.sum(axis=1)"
   ]
  },
  {
   "cell_type": "code",
   "execution_count": 6,
   "id": "6dce1045-7432-4785-909a-1edd01c0e5dd",
   "metadata": {},
   "outputs": [
    {
     "data": {
      "text/plain": [
       "Rank                     500.500\n",
       "Year                    2014.000\n",
       "Runtime (Minutes)        111.000\n",
       "Rating                     6.800\n",
       "Votes                 110799.000\n",
       "Revenue (Millions)        47.985\n",
       "Metascore                 59.500\n",
       "dtype: float64"
      ]
     },
     "execution_count": 6,
     "metadata": {},
     "output_type": "execute_result"
    }
   ],
   "source": [
    "data.median()"
   ]
  },
  {
   "cell_type": "code",
   "execution_count": 7,
   "id": "7736b8c5-f98a-4fa7-a2e9-c9fbb993d7a0",
   "metadata": {},
   "outputs": [
    {
     "data": {
      "text/plain": [
       "Rank                     500.500000\n",
       "Year                    2012.783000\n",
       "Runtime (Minutes)        113.172000\n",
       "Rating                     6.723200\n",
       "Votes                 169808.255000\n",
       "Revenue (Millions)        82.956376\n",
       "Metascore                 58.985043\n",
       "dtype: float64"
      ]
     },
     "execution_count": 7,
     "metadata": {},
     "output_type": "execute_result"
    }
   ],
   "source": [
    "data.mean()"
   ]
  },
  {
   "cell_type": "code",
   "execution_count": 8,
   "id": "24f140dd-82c7-4797-8cf9-81eb4ea5a69d",
   "metadata": {},
   "outputs": [
    {
     "data": {
      "text/plain": [
       "Rank                                                               1000\n",
       "Title                                                          Zootopia\n",
       "Genre                                                      Thriller,War\n",
       "Description           Young, up-and-coming martial artist, Bruce Lee...\n",
       "Director                                                  Zackary Adler\n",
       "Actors                Zooey Deschanel, Joseph Gordon-Levitt, Geoffre...\n",
       "Year                                                               2016\n",
       "Runtime (Minutes)                                                   191\n",
       "Rating                                                                9\n",
       "Votes                                                           1791916\n",
       "Revenue (Millions)                                               936.63\n",
       "Metascore                                                           100\n",
       "dtype: object"
      ]
     },
     "execution_count": 8,
     "metadata": {},
     "output_type": "execute_result"
    }
   ],
   "source": [
    "data.max()"
   ]
  },
  {
   "cell_type": "code",
   "execution_count": 9,
   "id": "dc6ed985-1235-495c-beee-84eba2fe9f27",
   "metadata": {},
   "outputs": [
    {
     "data": {
      "text/plain": [
       "999"
      ]
     },
     "execution_count": 9,
     "metadata": {},
     "output_type": "execute_result"
    }
   ],
   "source": [
    "Rank = data.Rank\n",
    "Rank.idxmax()"
   ]
  },
  {
   "cell_type": "code",
   "execution_count": 10,
   "id": "84a5d17d-32b7-4dd5-a80f-23e40587eeb8",
   "metadata": {},
   "outputs": [
    {
     "data": {
      "text/plain": [
       "Rank                  8.341667e+04\n",
       "Year                  1.027819e+01\n",
       "Runtime (Minutes)     3.538503e+02\n",
       "Rating                8.938356e-01\n",
       "Votes                 3.563134e+10\n",
       "Revenue (Millions)    1.066129e+04\n",
       "Metascore             2.956597e+02\n",
       "dtype: float64"
      ]
     },
     "execution_count": 10,
     "metadata": {},
     "output_type": "execute_result"
    }
   ],
   "source": [
    "data.var()"
   ]
  },
  {
   "cell_type": "code",
   "execution_count": 11,
   "id": "4d8e727c-9853-4ed1-9b12-421c061bbd18",
   "metadata": {},
   "outputs": [
    {
     "data": {
      "text/plain": [
       "2016    297\n",
       "2015    127\n",
       "2014     98\n",
       "2013     91\n",
       "2012     64\n",
       "2011     63\n",
       "2010     60\n",
       "2007     53\n",
       "2008     52\n",
       "2009     51\n",
       "2006     44\n",
       "Name: Year, dtype: int64"
      ]
     },
     "execution_count": 11,
     "metadata": {},
     "output_type": "execute_result"
    }
   ],
   "source": [
    "Year= data.Year\n",
    "Year.value_counts()"
   ]
  },
  {
   "cell_type": "code",
   "execution_count": 12,
   "id": "663bfe7f-61dc-4279-9f90-882499695e26",
   "metadata": {},
   "outputs": [
    {
     "data": {
      "text/html": [
       "<div>\n",
       "<style scoped>\n",
       "    .dataframe tbody tr th:only-of-type {\n",
       "        vertical-align: middle;\n",
       "    }\n",
       "\n",
       "    .dataframe tbody tr th {\n",
       "        vertical-align: top;\n",
       "    }\n",
       "\n",
       "    .dataframe thead th {\n",
       "        text-align: right;\n",
       "    }\n",
       "</style>\n",
       "<table border=\"1\" class=\"dataframe\">\n",
       "  <thead>\n",
       "    <tr style=\"text-align: right;\">\n",
       "      <th></th>\n",
       "      <th>Rank</th>\n",
       "      <th>Title</th>\n",
       "      <th>Genre</th>\n",
       "      <th>Description</th>\n",
       "      <th>Director</th>\n",
       "      <th>Actors</th>\n",
       "      <th>Year</th>\n",
       "      <th>Runtime (Minutes)</th>\n",
       "      <th>Rating</th>\n",
       "      <th>Votes</th>\n",
       "      <th>Revenue (Millions)</th>\n",
       "      <th>Metascore</th>\n",
       "    </tr>\n",
       "  </thead>\n",
       "  <tbody>\n",
       "    <tr>\n",
       "      <th>0</th>\n",
       "      <td>1</td>\n",
       "      <td>Guardians of the Galaxy</td>\n",
       "      <td>Action,Adventure,Sci-Fi</td>\n",
       "      <td>A group of intergalactic criminals are forced ...</td>\n",
       "      <td>James Gunn</td>\n",
       "      <td>Chris Pratt, Vin Diesel, Bradley Cooper, Zoe S...</td>\n",
       "      <td>2014</td>\n",
       "      <td>121</td>\n",
       "      <td>8.1</td>\n",
       "      <td>757074</td>\n",
       "      <td>333.13</td>\n",
       "      <td>76.0</td>\n",
       "    </tr>\n",
       "    <tr>\n",
       "      <th>1</th>\n",
       "      <td>3</td>\n",
       "      <td>Guardians of the GalaxyPrometheus</td>\n",
       "      <td>Action,Adventure,Sci-FiAdventure,Mystery,Sci-Fi</td>\n",
       "      <td>A group of intergalactic criminals are forced ...</td>\n",
       "      <td>James GunnRidley Scott</td>\n",
       "      <td>Chris Pratt, Vin Diesel, Bradley Cooper, Zoe S...</td>\n",
       "      <td>4026</td>\n",
       "      <td>245</td>\n",
       "      <td>15.1</td>\n",
       "      <td>1242894</td>\n",
       "      <td>459.59</td>\n",
       "      <td>141.0</td>\n",
       "    </tr>\n",
       "    <tr>\n",
       "      <th>2</th>\n",
       "      <td>6</td>\n",
       "      <td>Guardians of the GalaxyPrometheusSplit</td>\n",
       "      <td>Action,Adventure,Sci-FiAdventure,Mystery,Sci-F...</td>\n",
       "      <td>A group of intergalactic criminals are forced ...</td>\n",
       "      <td>James GunnRidley ScottM. Night Shyamalan</td>\n",
       "      <td>Chris Pratt, Vin Diesel, Bradley Cooper, Zoe S...</td>\n",
       "      <td>6042</td>\n",
       "      <td>362</td>\n",
       "      <td>22.4</td>\n",
       "      <td>1400500</td>\n",
       "      <td>597.71</td>\n",
       "      <td>203.0</td>\n",
       "    </tr>\n",
       "    <tr>\n",
       "      <th>3</th>\n",
       "      <td>10</td>\n",
       "      <td>Guardians of the GalaxyPrometheusSplitSing</td>\n",
       "      <td>Action,Adventure,Sci-FiAdventure,Mystery,Sci-F...</td>\n",
       "      <td>A group of intergalactic criminals are forced ...</td>\n",
       "      <td>James GunnRidley ScottM. Night ShyamalanChrist...</td>\n",
       "      <td>Chris Pratt, Vin Diesel, Bradley Cooper, Zoe S...</td>\n",
       "      <td>8058</td>\n",
       "      <td>470</td>\n",
       "      <td>29.6</td>\n",
       "      <td>1461045</td>\n",
       "      <td>868.03</td>\n",
       "      <td>262.0</td>\n",
       "    </tr>\n",
       "    <tr>\n",
       "      <th>4</th>\n",
       "      <td>15</td>\n",
       "      <td>Guardians of the GalaxyPrometheusSplitSingSuic...</td>\n",
       "      <td>Action,Adventure,Sci-FiAdventure,Mystery,Sci-F...</td>\n",
       "      <td>A group of intergalactic criminals are forced ...</td>\n",
       "      <td>James GunnRidley ScottM. Night ShyamalanChrist...</td>\n",
       "      <td>Chris Pratt, Vin Diesel, Bradley Cooper, Zoe S...</td>\n",
       "      <td>10074</td>\n",
       "      <td>593</td>\n",
       "      <td>35.8</td>\n",
       "      <td>1854772</td>\n",
       "      <td>1193.05</td>\n",
       "      <td>302.0</td>\n",
       "    </tr>\n",
       "  </tbody>\n",
       "</table>\n",
       "</div>"
      ],
      "text/plain": [
       "   Rank                                              Title  \\\n",
       "0     1                            Guardians of the Galaxy   \n",
       "1     3                  Guardians of the GalaxyPrometheus   \n",
       "2     6             Guardians of the GalaxyPrometheusSplit   \n",
       "3    10         Guardians of the GalaxyPrometheusSplitSing   \n",
       "4    15  Guardians of the GalaxyPrometheusSplitSingSuic...   \n",
       "\n",
       "                                               Genre  \\\n",
       "0                            Action,Adventure,Sci-Fi   \n",
       "1    Action,Adventure,Sci-FiAdventure,Mystery,Sci-Fi   \n",
       "2  Action,Adventure,Sci-FiAdventure,Mystery,Sci-F...   \n",
       "3  Action,Adventure,Sci-FiAdventure,Mystery,Sci-F...   \n",
       "4  Action,Adventure,Sci-FiAdventure,Mystery,Sci-F...   \n",
       "\n",
       "                                         Description  \\\n",
       "0  A group of intergalactic criminals are forced ...   \n",
       "1  A group of intergalactic criminals are forced ...   \n",
       "2  A group of intergalactic criminals are forced ...   \n",
       "3  A group of intergalactic criminals are forced ...   \n",
       "4  A group of intergalactic criminals are forced ...   \n",
       "\n",
       "                                            Director  \\\n",
       "0                                         James Gunn   \n",
       "1                             James GunnRidley Scott   \n",
       "2           James GunnRidley ScottM. Night Shyamalan   \n",
       "3  James GunnRidley ScottM. Night ShyamalanChrist...   \n",
       "4  James GunnRidley ScottM. Night ShyamalanChrist...   \n",
       "\n",
       "                                              Actors   Year  \\\n",
       "0  Chris Pratt, Vin Diesel, Bradley Cooper, Zoe S...   2014   \n",
       "1  Chris Pratt, Vin Diesel, Bradley Cooper, Zoe S...   4026   \n",
       "2  Chris Pratt, Vin Diesel, Bradley Cooper, Zoe S...   6042   \n",
       "3  Chris Pratt, Vin Diesel, Bradley Cooper, Zoe S...   8058   \n",
       "4  Chris Pratt, Vin Diesel, Bradley Cooper, Zoe S...  10074   \n",
       "\n",
       "   Runtime (Minutes)  Rating    Votes  Revenue (Millions)  Metascore  \n",
       "0                121     8.1   757074              333.13       76.0  \n",
       "1                245    15.1  1242894              459.59      141.0  \n",
       "2                362    22.4  1400500              597.71      203.0  \n",
       "3                470    29.6  1461045              868.03      262.0  \n",
       "4                593    35.8  1854772             1193.05      302.0  "
      ]
     },
     "execution_count": 12,
     "metadata": {},
     "output_type": "execute_result"
    }
   ],
   "source": [
    "data.cumsum().head(5)"
   ]
  },
  {
   "cell_type": "code",
   "execution_count": 13,
   "id": "606bad6a-c39c-4568-83c8-54a45ed6541e",
   "metadata": {},
   "outputs": [
    {
     "data": {
      "text/plain": [
       "Rank                     288.819436\n",
       "Year                       3.205962\n",
       "Runtime (Minutes)         18.810908\n",
       "Rating                     0.945429\n",
       "Votes                 188762.647518\n",
       "Revenue (Millions)       103.253540\n",
       "Metascore                 17.194757\n",
       "dtype: float64"
      ]
     },
     "execution_count": 13,
     "metadata": {},
     "output_type": "execute_result"
    }
   ],
   "source": [
    "data.std()"
   ]
  },
  {
   "cell_type": "code",
   "execution_count": 14,
   "id": "1bddad14-b332-486b-9e8a-7638e4656c07",
   "metadata": {},
   "outputs": [
    {
     "data": {
      "text/html": [
       "<div>\n",
       "<style scoped>\n",
       "    .dataframe tbody tr th:only-of-type {\n",
       "        vertical-align: middle;\n",
       "    }\n",
       "\n",
       "    .dataframe tbody tr th {\n",
       "        vertical-align: top;\n",
       "    }\n",
       "\n",
       "    .dataframe thead th {\n",
       "        text-align: right;\n",
       "    }\n",
       "</style>\n",
       "<table border=\"1\" class=\"dataframe\">\n",
       "  <thead>\n",
       "    <tr style=\"text-align: right;\">\n",
       "      <th></th>\n",
       "      <th>Rank</th>\n",
       "      <th>Year</th>\n",
       "      <th>Runtime (Minutes)</th>\n",
       "      <th>Rating</th>\n",
       "      <th>Votes</th>\n",
       "      <th>Revenue (Millions)</th>\n",
       "      <th>Metascore</th>\n",
       "    </tr>\n",
       "  </thead>\n",
       "  <tbody>\n",
       "    <tr>\n",
       "      <th>count</th>\n",
       "      <td>1000.000000</td>\n",
       "      <td>1000.000000</td>\n",
       "      <td>1000.000000</td>\n",
       "      <td>1000.000000</td>\n",
       "      <td>1.000000e+03</td>\n",
       "      <td>872.000000</td>\n",
       "      <td>936.000000</td>\n",
       "    </tr>\n",
       "    <tr>\n",
       "      <th>mean</th>\n",
       "      <td>500.500000</td>\n",
       "      <td>2012.783000</td>\n",
       "      <td>113.172000</td>\n",
       "      <td>6.723200</td>\n",
       "      <td>1.698083e+05</td>\n",
       "      <td>82.956376</td>\n",
       "      <td>58.985043</td>\n",
       "    </tr>\n",
       "    <tr>\n",
       "      <th>std</th>\n",
       "      <td>288.819436</td>\n",
       "      <td>3.205962</td>\n",
       "      <td>18.810908</td>\n",
       "      <td>0.945429</td>\n",
       "      <td>1.887626e+05</td>\n",
       "      <td>103.253540</td>\n",
       "      <td>17.194757</td>\n",
       "    </tr>\n",
       "    <tr>\n",
       "      <th>min</th>\n",
       "      <td>1.000000</td>\n",
       "      <td>2006.000000</td>\n",
       "      <td>66.000000</td>\n",
       "      <td>1.900000</td>\n",
       "      <td>6.100000e+01</td>\n",
       "      <td>0.000000</td>\n",
       "      <td>11.000000</td>\n",
       "    </tr>\n",
       "    <tr>\n",
       "      <th>25%</th>\n",
       "      <td>250.750000</td>\n",
       "      <td>2010.000000</td>\n",
       "      <td>100.000000</td>\n",
       "      <td>6.200000</td>\n",
       "      <td>3.630900e+04</td>\n",
       "      <td>13.270000</td>\n",
       "      <td>47.000000</td>\n",
       "    </tr>\n",
       "    <tr>\n",
       "      <th>50%</th>\n",
       "      <td>500.500000</td>\n",
       "      <td>2014.000000</td>\n",
       "      <td>111.000000</td>\n",
       "      <td>6.800000</td>\n",
       "      <td>1.107990e+05</td>\n",
       "      <td>47.985000</td>\n",
       "      <td>59.500000</td>\n",
       "    </tr>\n",
       "    <tr>\n",
       "      <th>75%</th>\n",
       "      <td>750.250000</td>\n",
       "      <td>2016.000000</td>\n",
       "      <td>123.000000</td>\n",
       "      <td>7.400000</td>\n",
       "      <td>2.399098e+05</td>\n",
       "      <td>113.715000</td>\n",
       "      <td>72.000000</td>\n",
       "    </tr>\n",
       "    <tr>\n",
       "      <th>max</th>\n",
       "      <td>1000.000000</td>\n",
       "      <td>2016.000000</td>\n",
       "      <td>191.000000</td>\n",
       "      <td>9.000000</td>\n",
       "      <td>1.791916e+06</td>\n",
       "      <td>936.630000</td>\n",
       "      <td>100.000000</td>\n",
       "    </tr>\n",
       "  </tbody>\n",
       "</table>\n",
       "</div>"
      ],
      "text/plain": [
       "              Rank         Year  Runtime (Minutes)       Rating         Votes  \\\n",
       "count  1000.000000  1000.000000        1000.000000  1000.000000  1.000000e+03   \n",
       "mean    500.500000  2012.783000         113.172000     6.723200  1.698083e+05   \n",
       "std     288.819436     3.205962          18.810908     0.945429  1.887626e+05   \n",
       "min       1.000000  2006.000000          66.000000     1.900000  6.100000e+01   \n",
       "25%     250.750000  2010.000000         100.000000     6.200000  3.630900e+04   \n",
       "50%     500.500000  2014.000000         111.000000     6.800000  1.107990e+05   \n",
       "75%     750.250000  2016.000000         123.000000     7.400000  2.399098e+05   \n",
       "max    1000.000000  2016.000000         191.000000     9.000000  1.791916e+06   \n",
       "\n",
       "       Revenue (Millions)   Metascore  \n",
       "count          872.000000  936.000000  \n",
       "mean            82.956376   58.985043  \n",
       "std            103.253540   17.194757  \n",
       "min              0.000000   11.000000  \n",
       "25%             13.270000   47.000000  \n",
       "50%             47.985000   59.500000  \n",
       "75%            113.715000   72.000000  \n",
       "max            936.630000  100.000000  "
      ]
     },
     "execution_count": 14,
     "metadata": {},
     "output_type": "execute_result"
    }
   ],
   "source": [
    "data.describe()"
   ]
  },
  {
   "cell_type": "markdown",
   "id": "78c863ee-81d9-468a-b914-99343ceccc35",
   "metadata": {},
   "source": [
    "# Random numbers, Random Variables\n",
    "NumPy offers the random module to work with random numbers."
   ]
  },
  {
   "cell_type": "code",
   "execution_count": 15,
   "id": "034f21f4-bf8c-49b3-9526-8a02187205cc",
   "metadata": {},
   "outputs": [],
   "source": [
    "from numpy import random"
   ]
  },
  {
   "cell_type": "code",
   "execution_count": 16,
   "id": "e8b027e1-f51d-4bc0-8468-75ba7751d257",
   "metadata": {},
   "outputs": [
    {
     "data": {
      "text/plain": [
       "array([[7.49405911e-01, 8.69096298e-01, 7.32449821e-04],\n",
       "       [1.83262790e-01, 5.33800621e-01, 5.41529375e-01]])"
      ]
     },
     "execution_count": 16,
     "metadata": {},
     "output_type": "execute_result"
    }
   ],
   "source": [
    "a = np.random.rand(2,3) #rand() method returns a random float between 0 and 1.\n",
    "a"
   ]
  },
  {
   "cell_type": "code",
   "execution_count": 17,
   "id": "df144720-6735-4ac6-8b55-d8b311556be8",
   "metadata": {},
   "outputs": [
    {
     "data": {
      "text/plain": [
       "array([[-0.72349767,  0.66153569,  0.3705604 ],\n",
       "       [-0.93071886, -1.02985006, -1.7253925 ]])"
      ]
     },
     "execution_count": 17,
     "metadata": {},
     "output_type": "execute_result"
    }
   ],
   "source": [
    "a = np.random.randn(2,3)\n",
    "a"
   ]
  },
  {
   "cell_type": "code",
   "execution_count": 18,
   "id": "e3184ba6-64dc-4061-a9e1-776b9f132106",
   "metadata": {},
   "outputs": [
    {
     "data": {
      "text/plain": [
       "6"
      ]
     },
     "execution_count": 18,
     "metadata": {},
     "output_type": "execute_result"
    }
   ],
   "source": [
    "a = np.random.randint(100) #randint() method takes a size parameter where you can specify the shape of an array.\n",
    "a"
   ]
  },
  {
   "cell_type": "code",
   "execution_count": 19,
   "id": "7235258d-ba8b-44a2-94a8-3b9a3e396ac8",
   "metadata": {},
   "outputs": [
    {
     "data": {
      "text/plain": [
       "array([4, 1, 2, 3, 1, 0])"
      ]
     },
     "execution_count": 19,
     "metadata": {},
     "output_type": "execute_result"
    }
   ],
   "source": [
    "a = np.random.choice(5,6) #choice() method takes an array as a parameter and randomly returns one of the values.\n",
    "a"
   ]
  },
  {
   "cell_type": "markdown",
   "id": "5f9e1b95-547b-415c-8e69-b78d2edce5d1",
   "metadata": {},
   "source": [
    "# Random distributions with numpy and scipy"
   ]
  },
  {
   "cell_type": "markdown",
   "id": "27169253-1c15-46af-b61d-5d1fd9fc7ad8",
   "metadata": {},
   "source": [
    "\n",
    "A random distribution is a set of random numbers that follow a certain probability density function."
   ]
  },
  {
   "cell_type": "code",
   "execution_count": 20,
   "id": "95a479fa-4e0d-4c1b-ad73-b250c018d3c8",
   "metadata": {},
   "outputs": [
    {
     "data": {
      "text/plain": [
       "array([[6, 3],\n",
       "       [3, 3]])"
      ]
     },
     "execution_count": 20,
     "metadata": {},
     "output_type": "execute_result"
    }
   ],
   "source": [
    "x = random.choice([4, 6, 3, 5], p=[0.1, 0.3, 0.6, 0.0], size=(2,2))\n",
    "x"
   ]
  },
  {
   "cell_type": "code",
   "execution_count": 21,
   "id": "347e06d3-fef5-41cc-bc6f-7f72e31fdada",
   "metadata": {},
   "outputs": [
    {
     "data": {
      "text/plain": [
       "[<matplotlib.lines.Line2D at 0x237c54c0>]"
      ]
     },
     "execution_count": 21,
     "metadata": {},
     "output_type": "execute_result"
    },
    {
     "data": {
      "image/png": "[encoded data removed]",
      "text/plain": [
       "<Figure size 432x288 with 1 Axes>"
      ]
     },
     "metadata": {
      "needs_background": "light"
     },
     "output_type": "display_data"
    }
   ],
   "source": [
    "import matplotlib.pyplot as plt\n",
    "from scipy.stats import alpha\n",
    "a =5\n",
    "r = alpha.rvs(a, size=500)\n",
    "plt.plot(r)"
   ]
  }
 ],
 "metadata": {
  "kernelspec": {
   "display_name": "Python 3",
   "language": "python",
   "name": "python3"
  },
  "language_info": {
   "codemirror_mode": {
    "name": "ipython",
    "version": 3
   },
   "file_extension": ".py",
   "mimetype": "text/x-python",
   "name": "python",
   "nbconvert_exporter": "python",
   "pygments_lexer": "ipython3",
   "version": "3.8.5"
  }
 },
 "nbformat": 4,
 "nbformat_minor": 5
}
