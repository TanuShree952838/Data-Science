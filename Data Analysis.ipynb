{
 "cells": [
  {
   "cell_type": "markdown",
   "id": "69556594-a5fb-43b5-8b71-88bde4dd8cac",
   "metadata": {},
   "source": [
    "# Linear Algebra with numpy\n",
    "The Linear Algebra module of NumPy offers various methods to apply linear algebra on any numpy array."
   ]
  },
  {
   "cell_type": "code",
   "execution_count": 20,
   "id": "29fefa46-b555-421c-ad4f-e4c1cd803fe5",
   "metadata": {},
   "outputs": [],
   "source": [
    "import numpy as np"
   ]
  },
  {
   "cell_type": "code",
   "execution_count": 21,
   "id": "e61abcf0-52a0-4c25-a53e-e42037e6ec6a",
   "metadata": {},
   "outputs": [
    {
     "name": "stdout",
     "output_type": "stream",
     "text": [
      "Rank of A: 3\n",
      "\n",
      "Trace of A: 11\n",
      "\n",
      "Determinant of A: -306.0\n",
      "\n",
      "Inverse of A:\n",
      " [[ 0.17647059 -0.00326797 -0.02287582]\n",
      " [ 0.05882353 -0.13071895  0.08496732]\n",
      " [-0.11764706  0.1503268   0.05228758]]\n",
      "\n",
      "Matrix A raised to power 3:\n",
      " [[336 162 228]\n",
      " [406 162 469]\n",
      " [698 702 905]]\n"
     ]
    }
   ],
   "source": [
    "A = np.array([[6, 1, 1],\n",
    "              [4, -2, 5],\n",
    "              [2, 8, 7]])\n",
    "\n",
    "# Rank of a matrix\n",
    "print(\"Rank of A:\", np.linalg.matrix_rank(A))\n",
    "\n",
    "# Trace of matrix A\n",
    "print(\"\\nTrace of A:\", np.trace(A))\n",
    "\n",
    "# Determinant of a matrix\n",
    "print(\"\\nDeterminant of A:\", np.linalg.det(A))\n",
    "\n",
    "# Inverse of matrix A\n",
    "print(\"\\nInverse of A:\\n\", np.linalg.inv(A))\n",
    "\n",
    "print(\"\\nMatrix A raised to power 3:\\n\",\n",
    "           np.linalg.matrix_power(A, 3))"
   ]
  },
  {
   "cell_type": "code",
   "execution_count": 22,
   "id": "0e0c27cc-8d7c-4daa-a572-49a57ff2b6e7",
   "metadata": {},
   "outputs": [
    {
     "name": "stdout",
     "output_type": "stream",
     "text": [
      "Array is : [[ 1.+0.j -0.-2.j]\n",
      " [ 0.+2.j  5.+0.j]]\n",
      "Eigen value is : [0.17157288 5.82842712]\n",
      "Eigen value is : [[-0.92387953+0.j         -0.38268343+0.j        ]\n",
      " [ 0.        +0.38268343j  0.        -0.92387953j]]\n"
     ]
    }
   ],
   "source": [
    "from numpy import linalg \n",
    "\n",
    "# Creating an array using array \n",
    "# function\n",
    "a = np.array([[1, -2j], [2j, 5]])\n",
    "\n",
    "print(\"Array is :\",a)\n",
    "\n",
    "# calculating an eigen value using eigh() function\n",
    "c, d = linalg.eigh(a)\n",
    "\n",
    "print(\"Eigen value is :\", c)\n",
    "print(\"Eigen value is :\", d)"
   ]
  },
  {
   "cell_type": "markdown",
   "id": "5fb5e726-958b-423e-b871-658d66448532",
   "metadata": {},
   "source": [
    "# Using Numpy Arrays"
   ]
  },
  {
   "cell_type": "code",
   "execution_count": 23,
   "id": "3f377f9d-d58b-4c1b-b899-bc43deab973a",
   "metadata": {},
   "outputs": [
    {
     "name": "stdout",
     "output_type": "stream",
     "text": [
      " a : [1 2 3 4]\n",
      "\n",
      " b :  [[1. 2. 3. 4.]\n",
      " [5. 6. 7. 8.]]\n",
      "\n",
      " c :  [[[1. 2. 3. 4.]\n",
      "  [5. 6. 7. 8.]]\n",
      "\n",
      " [[1. 2. 3. 4.]\n",
      "  [5. 6. 7. 8.]]]\n"
     ]
    }
   ],
   "source": [
    "a = np.array([1,2,3,4])\n",
    "b = np.array([(1,2,3,4),(5,6,7,8)],dtype = float)\n",
    "c = np.array([[(1,2,3,4),(5,6,7,8)],[(1,2,3,4),(5,6,7,8)]], dtype = float)\n",
    "print(\" a :\", a)\n",
    "print(\"\\n b : \", b)\n",
    "print(\"\\n c : \",c)"
   ]
  },
  {
   "cell_type": "code",
   "execution_count": 25,
   "id": "32e7d07c-dddf-4776-9e7d-b5170e72e1f1",
   "metadata": {},
   "outputs": [
    {
     "data": {
      "text/plain": [
       "array([[0., 0., 0., 0.],\n",
       "       [0., 0., 0., 0.],\n",
       "       [0., 0., 0., 0.]])"
      ]
     },
     "execution_count": 25,
     "metadata": {},
     "output_type": "execute_result"
    }
   ],
   "source": [
    "arr = np.zeros((3,4))\n",
    "arr"
   ]
  },
  {
   "cell_type": "code",
   "execution_count": 27,
   "id": "701635b5-e013-4908-ace0-678012dd3a16",
   "metadata": {},
   "outputs": [
    {
     "data": {
      "text/plain": [
       "array([[1., 1., 1., 1.],\n",
       "       [1., 1., 1., 1.],\n",
       "       [1., 1., 1., 1.]])"
      ]
     },
     "execution_count": 27,
     "metadata": {},
     "output_type": "execute_result"
    }
   ],
   "source": [
    "arr = np.ones((3,4))\n",
    "arr"
   ]
  },
  {
   "cell_type": "code",
   "execution_count": 29,
   "id": "8f778d00-e7ff-4b15-98b2-f56dda01e600",
   "metadata": {},
   "outputs": [
    {
     "data": {
      "text/plain": [
       "array([[1., 0., 0.],\n",
       "       [0., 1., 0.],\n",
       "       [0., 0., 1.]])"
      ]
     },
     "execution_count": 29,
     "metadata": {},
     "output_type": "execute_result"
    }
   ],
   "source": [
    "arr  = np.eye(3)\n",
    "arr"
   ]
  },
  {
   "cell_type": "code",
   "execution_count": 30,
   "id": "5e541153-ee1d-4ccb-bb5e-eeda717525a4",
   "metadata": {},
   "outputs": [
    {
     "data": {
      "text/plain": [
       "array([0.49276187, 0.7699103 , 0.07711574])"
      ]
     },
     "execution_count": 30,
     "metadata": {},
     "output_type": "execute_result"
    }
   ],
   "source": [
    "arr = np.random.random(3)\n",
    "arr"
   ]
  },
  {
   "cell_type": "code",
   "execution_count": 31,
   "id": "762b972a-5be6-46a9-89bc-9f903094dcdb",
   "metadata": {},
   "outputs": [
    {
     "data": {
      "text/plain": [
       "array([[5, 5, 5],\n",
       "       [5, 5, 5],\n",
       "       [5, 5, 5]])"
      ]
     },
     "execution_count": 31,
     "metadata": {},
     "output_type": "execute_result"
    }
   ],
   "source": [
    "arr = np.full((3,3),5)\n",
    "arr"
   ]
  },
  {
   "cell_type": "markdown",
   "id": "8569aff7-8494-4b2f-80af-4891433e7032",
   "metadata": {},
   "source": [
    "# Vectorized Operations"
   ]
  },
  {
   "cell_type": "markdown",
   "id": "75fa0873-d221-464c-bafc-4e2e91a188e2",
   "metadata": {},
   "source": [
    "Vectorized operations on NumPy allows the use of more optimal and pre-compiled functions and mathematical operations on NumPy array objects and data sequences."
   ]
  },
  {
   "cell_type": "code",
   "execution_count": 32,
   "id": "9304328c-6282-4b6c-8e2a-a37d1dcea7eb",
   "metadata": {},
   "outputs": [
    {
     "name": "stdout",
     "output_type": "stream",
     "text": [
      "Time taken by vectorized operation : 3.12 µs ± 84.4 ns per loop (mean ± std. dev. of 7 runs, 100000 loops each)\n",
      "Time taken by non-vectorized operation : 29 µs ± 1.35 µs per loop (mean ± std. dev. of 7 runs, 10000 loops each)\n"
     ]
    }
   ],
   "source": [
    "# calculate the exponential value of each entry in a particular object.\n",
    "\n",
    "\n",
    "import numpy as np\n",
    "import timeit\n",
    "import math\n",
    "  \n",
    "# vectorized operation\n",
    "print(\"Time taken by vectorized operation : \", end = \"\")\n",
    "%timeit np.exp(np.arange(150))\n",
    "  \n",
    "# non-vectorized operation\n",
    "print(\"Time taken by non-vectorized operation : \", end = \"\")\n",
    "%timeit [math.exp(item) for item in range(150)]"
   ]
  },
  {
   "cell_type": "markdown",
   "id": "8502e8a3-c60d-440e-b2ba-87bc005a2c49",
   "metadata": {},
   "source": [
    "# Universal Functions "
   ]
  },
  {
   "cell_type": "markdown",
   "id": "97b93e01-4a6c-4495-9765-6a5b6763354e",
   "metadata": {},
   "source": [
    "Universal functions in Numpy are simple mathematical functions. In NumPy, universal functions are instances of the numpy.ufunc class.\n",
    "\n",
    "numpy.frompyfunc(function-name, input, output)"
   ]
  },
  {
   "cell_type": "code",
   "execution_count": 34,
   "id": "2561b548-2916-4bfa-a858-dafcbdc357bd",
   "metadata": {},
   "outputs": [
    {
     "name": "stdout",
     "output_type": "stream",
     "text": [
      "[1 2 3 4]\n"
     ]
    }
   ],
   "source": [
    "def product(a, b):\n",
    "  return a*b\n",
    " \n",
    "product = np.frompyfunc(product, 2, 1)\n",
    " \n",
    "res = product([1, 2, 3, 4], [1,1,1,1])\n",
    "print(res)"
   ]
  },
  {
   "cell_type": "code",
   "execution_count": 35,
   "id": "e1555f84-35eb-4711-a4c0-1a0b22bdd75c",
   "metadata": {},
   "outputs": [
    {
     "name": "stdout",
     "output_type": "stream",
     "text": [
      "Sine hyperbolic values:\n",
      "[0.         0.54785347 0.86867096]\n",
      "Inverse Sine hyperbolic values:\n",
      "[0.         0.52085606 0.76347126]\n",
      "hypotenuse value for the right angled triangle:\n",
      "6.708203932499369\n"
     ]
    }
   ],
   "source": [
    "data = np.array([0, 30, 45])\n",
    " \n",
    "rad = np.deg2rad(data)\n",
    " \n",
    "# hyperbolic sine value\n",
    "print('Sine hyperbolic values:')\n",
    "hy_sin = np.sinh(rad)\n",
    "print(hy_sin)\n",
    " \n",
    "# inverse sine hyperbolic\n",
    "print('Inverse Sine hyperbolic values:')\n",
    "print(np.sin(hy_sin))\n",
    " \n",
    "# hypotenuse\n",
    "b = 3\n",
    "h = 6\n",
    "print('hypotenuse value for the right angled triangle:')\n",
    "print(np.hypot(b, h))"
   ]
  },
  {
   "cell_type": "markdown",
   "id": "978f035b-7516-40c9-83b6-ec371344e607",
   "metadata": {},
   "source": [
    "# Broadcasting and shape manupulation"
   ]
  },
  {
   "cell_type": "markdown",
   "id": "21b807f6-14a7-4c72-9e66-f122d43600f1",
   "metadata": {},
   "source": [
    "Each universal function takes array inputs and produces array outputs by performing the core function element-wise on the inputs"
   ]
  },
  {
   "cell_type": "raw",
   "id": "56d9a808-aa10-441e-b27e-fcce810e8d6c",
   "metadata": {},
   "source": [
    "macros = array([\n",
    "  [0.8, 2.9, 3.9],\n",
    "  [52.4, 23.6, 36.5],\n",
    "  [55.2, 31.7, 23.9],\n",
    "  [14.4, 11, 4.9]\n",
    "   ])\n",
    " \n",
    "# Create a new array filled with zeros,\n",
    "# of the same shape as macros.\n",
    "result = zeros_like(macros)\n",
    " \n",
    "cal_per_macro = array([3, 3, 8])\n",
    " \n",
    "# Now multiply each row of macros by\n",
    "# cal_per_macro. In Numpy, `*` is\n",
    "# element-wise multiplication between two arrays.\n",
    " for i in range(macros.shape[0]):\n",
    "     result[i, :] = macros[i, :] * cal_per_macro\n",
    " \n",
    "print(result)"
   ]
  },
  {
   "cell_type": "markdown",
   "id": "a2cd2847-06b2-4388-9b33-8451265eb1aa",
   "metadata": {},
   "source": [
    "### Manupulation: \n",
    "Numpy provides flexible tools to change the dimension of an array."
   ]
  },
  {
   "cell_type": "code",
   "execution_count": 38,
   "id": "61934fdd-0211-4d89-a59e-0cbf757b2f08",
   "metadata": {},
   "outputs": [
    {
     "data": {
      "text/plain": [
       "3"
      ]
     },
     "execution_count": 38,
     "metadata": {},
     "output_type": "execute_result"
    }
   ],
   "source": [
    "from numpy import array\n",
    "# 2-dimensional\n",
    "b = np.zeros((3,4))\n",
    "array([[0., 0., 0., 0.],        \n",
    "       [0., 0., 0., 0.],        \n",
    "       [0., 0., 0., 0.]])\n",
    "b.ndim\n",
    "2\n",
    "# 3-dimensional\n",
    "c = np.ones((2,2,2))\n",
    "array([[[1., 1.],         \n",
    "        [1., 1.]],\n",
    "         \n",
    "        [[1., 1.],         \n",
    "         [1., 1.]]])\n",
    "c.ndim\n",
    "3"
   ]
  },
  {
   "cell_type": "markdown",
   "id": "98e99544-f370-425b-8645-869463229ec4",
   "metadata": {},
   "source": [
    "### Reshape\n",
    "1️⃣ reshape(a, newshape[, order]) →Gives a new shape to an array without changing its data.\n",
    "\n",
    "2️⃣ ravel(a[, order]) →Return a contiguous flattened array.\n",
    "\n",
    "3️⃣ ndarray.flat →A 1-D iterator over the array.\n",
    "\n",
    "4️⃣ ndarray.flatten([order]) →Return a copy of the array collapsed into one dimension."
   ]
  },
  {
   "cell_type": "code",
   "execution_count": 40,
   "id": "23dadacf-0ffc-4242-8f16-51400c69bddf",
   "metadata": {},
   "outputs": [
    {
     "data": {
      "text/plain": [
       "array([[[0, 1],\n",
       "        [2, 3]],\n",
       "\n",
       "       [[4, 5],\n",
       "        [6, 7]]])"
      ]
     },
     "execution_count": 40,
     "metadata": {},
     "output_type": "execute_result"
    }
   ],
   "source": [
    "np.arange(8).reshape(2,2,2)\n",
    "array([[[0, 1],         \n",
    "        [2, 3]],          \n",
    "        [[4, 5],         \n",
    "        [6, 7]]])"
   ]
  },
  {
   "cell_type": "markdown",
   "id": "fd9546ac-b5ec-4aca-ab80-c9b698089900",
   "metadata": {},
   "source": [
    "# Boolean Mask"
   ]
  },
  {
   "cell_type": "code",
   "execution_count": 41,
   "id": "a513b901-1f53-46a8-b755-8a7030d41165",
   "metadata": {},
   "outputs": [
    {
     "data": {
      "text/plain": [
       "array([[-8, -1, -9,  5],\n",
       "       [-4,  6,  4,  6],\n",
       "       [-7, -6,  4,  9]])"
      ]
     },
     "execution_count": 41,
     "metadata": {},
     "output_type": "execute_result"
    }
   ],
   "source": [
    "a = np.random.randint(-10, 10, 12).reshape(3, 4)\n",
    "a"
   ]
  },
  {
   "cell_type": "markdown",
   "id": "100925bd-261c-4266-b3b4-df43c3204a01",
   "metadata": {},
   "source": [
    "# Date and Time in numpy"
   ]
  },
  {
   "cell_type": "code",
   "execution_count": 42,
   "id": "0ae2b448-457b-481a-a31f-1ec32d0ff7ec",
   "metadata": {},
   "outputs": [
    {
     "data": {
      "text/plain": [
       "numpy.datetime64('2021-06-17T04:32:47')"
      ]
     },
     "execution_count": 42,
     "metadata": {},
     "output_type": "execute_result"
    }
   ],
   "source": [
    "np.datetime64('today') # today's date\n",
    "np.datetime64('now') # timestamp right now "
   ]
  }
 ],
 "metadata": {
  "kernelspec": {
   "display_name": "Python 3",
   "language": "python",
   "name": "python3"
  },
  "language_info": {
   "codemirror_mode": {
    "name": "ipython",
    "version": 3
   },
   "file_extension": ".py",
   "mimetype": "text/x-python",
   "name": "python",
   "nbconvert_exporter": "python",
   "pygments_lexer": "ipython3",
   "version": "3.8.5"
  }
 },
 "nbformat": 4,
 "nbformat_minor": 5
}
