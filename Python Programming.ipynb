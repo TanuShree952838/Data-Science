{
 "cells": [
  {
   "cell_type": "markdown",
   "id": "b8726403-8a0c-4cc0-98aa-05f5da75fc9b",
   "metadata": {},
   "source": [
    "# Comments"
   ]
  },
  {
   "cell_type": "markdown",
   "id": "36d63e59-32c0-4990-8c69-31d8c87f5292",
   "metadata": {},
   "source": [
    "## Comments can be used to make the code more readable."
   ]
  },
  {
   "cell_type": "code",
   "execution_count": 1,
   "id": "51a2b54f-e120-4da3-86b2-6a47db5298a2",
   "metadata": {},
   "outputs": [],
   "source": [
    "#Single Line comment"
   ]
  },
  {
   "cell_type": "code",
   "execution_count": 2,
   "id": "e25220c6-6771-4445-b35e-93b2d5aa0e6d",
   "metadata": {
    "tags": []
   },
   "outputs": [
    {
     "data": {
      "text/plain": [
       "'Multiline\\ncomments \\nin \\npython'"
      ]
     },
     "execution_count": 2,
     "metadata": {},
     "output_type": "execute_result"
    }
   ],
   "source": [
    "'''Multiline\n",
    "comments \n",
    "in \n",
    "python'''"
   ]
  },
  {
   "cell_type": "markdown",
   "id": "f7a9c26a-1d0b-475c-a882-764c02f41825",
   "metadata": {},
   "source": [
    "# I/O in python"
   ]
  },
  {
   "cell_type": "code",
   "execution_count": 3,
   "id": "4417e125-7df3-4659-9c4b-5d5f165d4a7d",
   "metadata": {},
   "outputs": [
    {
     "name": "stdin",
     "output_type": "stream",
     "text": [
      "Enter your name:  Tanushree\n"
     ]
    },
    {
     "name": "stdout",
     "output_type": "stream",
     "text": [
      "Tanushree <class 'str'>\n"
     ]
    }
   ],
   "source": [
    "my_name = input(\"Enter your name: \")\n",
    "print(my_name, end =' ')\n",
    "print(type(my_name))"
   ]
  },
  {
   "cell_type": "code",
   "execution_count": 4,
   "id": "7e8d57c8-d20d-4a1e-990b-366eafac9f23",
   "metadata": {},
   "outputs": [
    {
     "name": "stdin",
     "output_type": "stream",
     "text": [
      "Enter a two value:  30 20\n"
     ]
    },
    {
     "name": "stdout",
     "output_type": "stream",
     "text": [
      "Value of x is : 30 Value of y is : 20\n"
     ]
    }
   ],
   "source": [
    "x, y = input(\"Enter a two value: \").split()\n",
    "print(\"Value of x is :\",x,\"Value of y is :\",y )\n"
   ]
  },
  {
   "cell_type": "code",
   "execution_count": 5,
   "id": "2f9abace-bae1-4dda-a29a-571bf3b572ea",
   "metadata": {},
   "outputs": [
    {
     "name": "stdin",
     "output_type": "stream",
     "text": [
      "Enter multiple value:  3,5,6,8,4,2,1,5\n"
     ]
    },
    {
     "name": "stdout",
     "output_type": "stream",
     "text": [
      "Number of list is:  [3, 5, 6, 8, 4, 2, 1, 5]\n"
     ]
    }
   ],
   "source": [
    "x = [int(x) for x in input(\"Enter multiple value: \").split(\",\")]\n",
    "print(\"Number of list is: \", x)"
   ]
  },
  {
   "cell_type": "markdown",
   "id": "252896e4-beda-4304-b51f-216e4007f64a",
   "metadata": {},
   "source": [
    "# Operators"
   ]
  },
  {
   "cell_type": "code",
   "execution_count": 6,
   "id": "d850a96d-7f25-4837-9a29-3a1fce73740a",
   "metadata": {},
   "outputs": [
    {
     "name": "stdout",
     "output_type": "stream",
     "text": [
      "Addition :  15\n",
      "Subtraction :  5\n",
      "Multiplication :  50\n",
      "Division :  2.0\n",
      "Floor Division :  2\n",
      "Modulous :  0\n",
      "Power  :  100000\n"
     ]
    }
   ],
   "source": [
    "#Addition: adds two operands\n",
    "x = 10\n",
    "y = 5\n",
    "print(\"Addition : \", x+ y)\n",
    "#Subtraction: subtracts two operands\n",
    "print(\"Subtraction : \",x - y)\n",
    "#Multiplication: multiplies two operands\n",
    "print(\"Multiplication : \", x * y)\n",
    "#Division (float): divides the first operand by the second\n",
    "print(\"Division : \",x / y)\n",
    "#Division (floor): divides the first operand by the second\n",
    "print(\"Floor Division : \",x // y)\n",
    "#Modulus: returns the remainder when first operand is divided by the second\n",
    "print(\"Modulous : \",x % y)\n",
    "#Power : Returns first raised to power second\n",
    "print(\"Power  : \",x ** y)"
   ]
  },
  {
   "cell_type": "code",
   "execution_count": 7,
   "id": "72b5cf18-8ce5-4470-a1a3-6ec3f1d0cd8d",
   "metadata": {},
   "outputs": [
    {
     "name": "stdout",
     "output_type": "stream",
     "text": [
      "True\n",
      "False\n",
      "False\n",
      "True\n",
      "True\n",
      "False\n"
     ]
    }
   ],
   "source": [
    "#Greater than: True if left operand is greater than the right\n",
    "a = 10\n",
    "b = 5\n",
    "print(x > y)\n",
    "#Less than: True if left operand is less than the right\n",
    "print(x < y)\n",
    "#Equal to: True if both operands are equal\n",
    "print(x == y)\n",
    "#Not equal to - True if operands are not equal\n",
    "print(x != y)\n",
    "#Greater than or equal to: True if left operand is greater than or equal to the right\n",
    "print(x >= y)\n",
    "#Less than or equal to: True if left operand is less than or equal to the right\n",
    "print(x <= y)\n"
   ]
  },
  {
   "cell_type": "code",
   "execution_count": 8,
   "id": "d1f336fb-3cd3-480a-8257-fd454d023c3c",
   "metadata": {},
   "outputs": [
    {
     "name": "stdout",
     "output_type": "stream",
     "text": [
      "5\n",
      "10\n",
      "False\n"
     ]
    }
   ],
   "source": [
    "#Logical AND: True if both the operands are true\n",
    "print(x and y)\n",
    "#Logical OR: True if either of the operands is true\n",
    "print(x or y)\n",
    "#Logical NOT: True if operand is false\n",
    "print(not b)"
   ]
  },
  {
   "cell_type": "markdown",
   "id": "37ac91f9-f3d7-413b-aa0c-b6ed96173f1d",
   "metadata": {},
   "source": [
    "# Namespace"
   ]
  },
  {
   "cell_type": "markdown",
   "id": "3c230c2b-308f-47d4-ab96-ce709505c845",
   "metadata": {},
   "source": [
    "Namespace is a way to implement scope. In Python, each package, module, class, function and method function owns a \"namespace\" in which variable names are resolved. When a function,  module or package is evaluated (that is, starts execution), a namespace is created."
   ]
  },
  {
   "cell_type": "markdown",
   "id": "16475eed-17cb-4a5f-a994-179d7d5700b4",
   "metadata": {},
   "source": [
    "# Some Useful Functions"
   ]
  },
  {
   "cell_type": "code",
   "execution_count": 9,
   "id": "8efd7eeb-0e70-4c0f-9f66-bf5d83d7206e",
   "metadata": {},
   "outputs": [
    {
     "name": "stdin",
     "output_type": "stream",
     "text": [
      " Enter your name : Tanushree\n"
     ]
    },
    {
     "name": "stdout",
     "output_type": "stream",
     "text": [
      "Lentgh of Name: 9\n",
      "Name In Capital :  TANUSHREE\n",
      "Name In Lower Letter :  TANUSHREE\n",
      "20\n",
      "29\n",
      "Maximum :  4\n",
      "Minimum :  3\n"
     ]
    }
   ],
   "source": [
    "name = input(\" Enter your name :\")\n",
    "print(\"Lentgh of Name:\",len(name))\n",
    "print(\"Name In Capital : \", name.upper())\n",
    "print(\"Name In Lower Letter : \", name.upper())\n",
    "num3= -20\n",
    "print(abs(num3))\n",
    "s= sum([1,5,7,9,3,4])\n",
    "print(s)\n",
    "a , b = 3, 4\n",
    "print(\"Maximum : \",max(a,b))\n",
    "print(\"Minimum : \",min(a,b))"
   ]
  },
  {
   "cell_type": "markdown",
   "id": "9fd9cc84-31b8-44ed-b6d8-0f6135441d0f",
   "metadata": {},
   "source": [
    "# Flow  Control"
   ]
  },
  {
   "cell_type": "markdown",
   "id": "ac9a46de-e340-433b-99eb-64562e40f87e",
   "metadata": {},
   "source": [
    "Python programming language provides following types of loops to handle looping requirements.\n",
    "While Loop\n",
    "For in Loop\n",
    "Nested Loops"
   ]
  },
  {
   "cell_type": "code",
   "execution_count": 10,
   "id": "9cb0c5f4-e69a-4df7-b62f-db69bc63e8b6",
   "metadata": {},
   "outputs": [
    {
     "name": "stdout",
     "output_type": "stream",
     "text": [
      "Hello\n",
      "Hello\n",
      "Hello\n"
     ]
    }
   ],
   "source": [
    "count = 0\n",
    "while (count < 3):    \n",
    "    count = count+1\n",
    "    print(\"Hello\")"
   ]
  },
  {
   "cell_type": "code",
   "execution_count": 11,
   "id": "1d789f7d-6ed4-4cc9-923c-92aec6b21ddf",
   "metadata": {},
   "outputs": [
    {
     "name": "stdout",
     "output_type": "stream",
     "text": [
      "\n",
      "String Iteration\n",
      "H\n",
      "e\n",
      "l\n",
      "l\n",
      "o\n"
     ]
    }
   ],
   "source": [
    "print(\"\\nString Iteration\")    \n",
    "s = \"Hello\"\n",
    "for i in s :\n",
    "    print(i)"
   ]
  },
  {
   "cell_type": "code",
   "execution_count": 12,
   "id": "3f02cfd4-e789-47ed-9544-ca9337de0ac3",
   "metadata": {},
   "outputs": [
    {
     "name": "stdout",
     "output_type": "stream",
     "text": [
      "1 \n",
      "2 2 \n",
      "3 3 3 \n",
      "4 4 4 4 \n"
     ]
    }
   ],
   "source": [
    "for i in range(1, 5):\n",
    "    for j in range(i):\n",
    "         print(i, end=' ')\n",
    "    print()"
   ]
  },
  {
   "cell_type": "markdown",
   "id": "b162dba6-9a19-4c22-bb25-e83ad26667f9",
   "metadata": {},
   "source": [
    "# Python Data Types"
   ]
  },
  {
   "cell_type": "markdown",
   "id": "b40aaec5-3e43-4ccf-8319-98900934ce49",
   "metadata": {},
   "source": [
    "String"
   ]
  },
  {
   "cell_type": "code",
   "execution_count": 17,
   "id": "cf1231a4-1e02-48fe-8daa-4a18fe8ae425",
   "metadata": {},
   "outputs": [
    {
     "name": "stdout",
     "output_type": "stream",
     "text": [
      "Hello\n"
     ]
    }
   ],
   "source": [
    "x = str(\"Hello\")\n",
    "print(x)"
   ]
  },
  {
   "cell_type": "markdown",
   "id": "e95ca644-b282-4a2e-9fdd-1ab257c7b533",
   "metadata": {},
   "source": [
    "The Python List is a general data structure widely used in Python programs. They are found in other languages, often referred to as dynamic arrays."
   ]
  },
  {
   "cell_type": "code",
   "execution_count": 14,
   "id": "20d5c5e1-15fe-4803-9404-665442a36020",
   "metadata": {},
   "outputs": [
    {
     "name": "stdout",
     "output_type": "stream",
     "text": [
      "[1, 2, 3, 4, 5, 6, 7, 7]\n"
     ]
    }
   ],
   "source": [
    "a = [1, 2, 3, 4, 5]\n",
    "a.append(6)\n",
    "a.append(7)\n",
    "a.append(7)\n",
    "print(a)"
   ]
  },
  {
   "cell_type": "markdown",
   "id": "6940e688-6f9c-4de7-8c3f-1dcfd2e23eb4",
   "metadata": {},
   "source": [
    "Tuple is a sequence of python objects like list with immutable feature. We cannot add or remove an item in tuple."
   ]
  },
  {
   "cell_type": "code",
   "execution_count": 15,
   "id": "b54eb0cb-1904-4d3e-ac62-bffe7471cf6f",
   "metadata": {},
   "outputs": [
    {
     "name": "stdout",
     "output_type": "stream",
     "text": [
      "3 4\n",
      "10 11 12\n",
      "11\n",
      "('a', 'b', 'c', 'd', 'e', 'f')\n"
     ]
    }
   ],
   "source": [
    "x,y = 3,4\n",
    "print (x,y)\n",
    "a,b,c = 10,11,12\n",
    "print(a,b,c)\n",
    "print(b)\n",
    "tuple=('a','b','c','d','e','f')\n",
    "print(tuple)"
   ]
  },
  {
   "cell_type": "markdown",
   "id": "32e5428a-b808-4a0b-95ed-557a563065b9",
   "metadata": {},
   "source": [
    "A Set is an unordered collection of items. Every element is unique.A Set is created by placing all the items (elements) inside curly braces {}, separated by comma."
   ]
  },
  {
   "cell_type": "code",
   "execution_count": 19,
   "id": "211f585f-8257-44ac-b293-6e66311fb704",
   "metadata": {},
   "outputs": [
    {
     "name": "stdout",
     "output_type": "stream",
     "text": [
      "{1, 5, 7, 'Hello', 'hi'}\n"
     ]
    }
   ],
   "source": [
    "setA=set([1,5,'hi',7,'Hello'])\n",
    "print(setA)"
   ]
  },
  {
   "cell_type": "markdown",
   "id": "10ad1847-65b0-4e68-b2da-b3cd3fa265b1",
   "metadata": {},
   "source": [
    "Dictionaries in python are unordered  collection of items,a dictionary is closed by curly brackets. Dictionary hold pair of Key and Value (key:value). Key and value are separated by (:) , whereas each item in dictionary is separated by comma (,)."
   ]
  },
  {
   "cell_type": "code",
   "execution_count": 20,
   "id": "aff8d388-5ee6-4f4c-9286-189de8d6ca04",
   "metadata": {},
   "outputs": [
    {
     "name": "stdout",
     "output_type": "stream",
     "text": [
      "{1: 'a', 2: 'b', 3: 'c'}\n"
     ]
    }
   ],
   "source": [
    "d1={1:'a',2:'b',3:'c'}\n",
    "print(d1)"
   ]
  },
  {
   "cell_type": "code",
   "execution_count": null,
   "id": "c6c81e32-0cd2-4886-a45d-0ba750a8a986",
   "metadata": {},
   "outputs": [],
   "source": []
  }
 ],
 "metadata": {
  "kernelspec": {
   "display_name": "Python 3",
   "language": "python",
   "name": "python3"
  },
  "language_info": {
   "codemirror_mode": {
    "name": "ipython",
    "version": 3
   },
   "file_extension": ".py",
   "mimetype": "text/x-python",
   "name": "python",
   "nbconvert_exporter": "python",
   "pygments_lexer": "ipython3",
   "version": "3.8.5"
  }
 },
 "nbformat": 4,
 "nbformat_minor": 5
}
