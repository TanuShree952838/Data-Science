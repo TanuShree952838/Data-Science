{
 "cells": [
  {
   "cell_type": "markdown",
   "id": "7c94000e-d2d4-4631-aa81-8f80f375f80b",
   "metadata": {},
   "source": [
    "# Regression"
   ]
  },
  {
   "cell_type": "markdown",
   "id": "a9e6afa2-fea5-4469-a003-1112bcd35110",
   "metadata": {},
   "source": [
    "Regression analysis is a form of predictive modelling technique which investigates the relationship between a dependent and independent variable.\n",
    "or \n",
    "A process by which we estimate the value of dependent variable on the basis of one or more independent variable.\n",
    "\n",
    "1. Linear Resgression\n",
    "2. Logistic Regression"
   ]
  },
  {
   "cell_type": "markdown",
   "id": "de870774-db96-436c-9dff-2f967e072cc2",
   "metadata": {},
   "source": [
    "# Linear Regression\n",
    "Linear Regression is the most basic algorithm in Machine Learning. It is a regression algorithm which means that it is useful when we are required to predict continuous values, that is, the output variable  ‘y’ is continuous in nature."
   ]
  },
  {
   "cell_type": "markdown",
   "id": "893d60d7-6699-4d89-b003-22e1437722cc",
   "metadata": {},
   "source": [
    "1. The method of least squares calculates square of deviation of points from the line chosen using Linear Regression.\n",
    "2. All data points falling along a straight line is called Linear relationship.\n",
    "3. Two unknown constants are their in simple linear regression.\n",
    "4. If the value of any regression coeficient is zero, then two variables are independent."
   ]
  },
  {
   "cell_type": "code",
   "execution_count": 21,
   "id": "913fb304-7012-465e-b913-60416fabc4db",
   "metadata": {},
   "outputs": [],
   "source": [
    "# Importing libraries\n",
    "import pandas as pd\n",
    "import numpy as np\n",
    "import matplotlib.pyplot as plt\n",
    "import matplotlib.axes as ax"
   ]
  },
  {
   "cell_type": "code",
   "execution_count": 22,
   "id": "2817491d-df24-4867-b29c-e090bd43b8ea",
   "metadata": {},
   "outputs": [
    {
     "data": {
      "text/html": [
       "<div>\n",
       "<style scoped>\n",
       "    .dataframe tbody tr th:only-of-type {\n",
       "        vertical-align: middle;\n",
       "    }\n",
       "\n",
       "    .dataframe tbody tr th {\n",
       "        vertical-align: top;\n",
       "    }\n",
       "\n",
       "    .dataframe thead th {\n",
       "        text-align: right;\n",
       "    }\n",
       "</style>\n",
       "<table border=\"1\" class=\"dataframe\">\n",
       "  <thead>\n",
       "    <tr style=\"text-align: right;\">\n",
       "      <th></th>\n",
       "      <th>x</th>\n",
       "      <th>y</th>\n",
       "    </tr>\n",
       "  </thead>\n",
       "  <tbody>\n",
       "    <tr>\n",
       "      <th>0</th>\n",
       "      <td>24.0</td>\n",
       "      <td>21.549452</td>\n",
       "    </tr>\n",
       "    <tr>\n",
       "      <th>1</th>\n",
       "      <td>50.0</td>\n",
       "      <td>47.464463</td>\n",
       "    </tr>\n",
       "    <tr>\n",
       "      <th>2</th>\n",
       "      <td>15.0</td>\n",
       "      <td>17.218656</td>\n",
       "    </tr>\n",
       "    <tr>\n",
       "      <th>3</th>\n",
       "      <td>38.0</td>\n",
       "      <td>36.586398</td>\n",
       "    </tr>\n",
       "    <tr>\n",
       "      <th>4</th>\n",
       "      <td>87.0</td>\n",
       "      <td>87.288984</td>\n",
       "    </tr>\n",
       "    <tr>\n",
       "      <th>...</th>\n",
       "      <td>...</td>\n",
       "      <td>...</td>\n",
       "    </tr>\n",
       "    <tr>\n",
       "      <th>695</th>\n",
       "      <td>58.0</td>\n",
       "      <td>58.595006</td>\n",
       "    </tr>\n",
       "    <tr>\n",
       "      <th>696</th>\n",
       "      <td>93.0</td>\n",
       "      <td>94.625094</td>\n",
       "    </tr>\n",
       "    <tr>\n",
       "      <th>697</th>\n",
       "      <td>82.0</td>\n",
       "      <td>88.603770</td>\n",
       "    </tr>\n",
       "    <tr>\n",
       "      <th>698</th>\n",
       "      <td>66.0</td>\n",
       "      <td>63.648685</td>\n",
       "    </tr>\n",
       "    <tr>\n",
       "      <th>699</th>\n",
       "      <td>97.0</td>\n",
       "      <td>94.975266</td>\n",
       "    </tr>\n",
       "  </tbody>\n",
       "</table>\n",
       "<p>700 rows × 2 columns</p>\n",
       "</div>"
      ],
      "text/plain": [
       "        x          y\n",
       "0    24.0  21.549452\n",
       "1    50.0  47.464463\n",
       "2    15.0  17.218656\n",
       "3    38.0  36.586398\n",
       "4    87.0  87.288984\n",
       "..    ...        ...\n",
       "695  58.0  58.595006\n",
       "696  93.0  94.625094\n",
       "697  82.0  88.603770\n",
       "698  66.0  63.648685\n",
       "699  97.0  94.975266\n",
       "\n",
       "[700 rows x 2 columns]"
      ]
     },
     "execution_count": 22,
     "metadata": {},
     "output_type": "execute_result"
    }
   ],
   "source": [
    "# read the data\n",
    "data = pd.read_csv(\"data_for_lr.csv\")\n",
    "data"
   ]
  },
  {
   "cell_type": "code",
   "execution_count": 23,
   "id": "ced6293a-8ac1-4145-8f91-19a580186c72",
   "metadata": {},
   "outputs": [
    {
     "data": {
      "text/plain": [
       "(700, 2)"
      ]
     },
     "execution_count": 23,
     "metadata": {},
     "output_type": "execute_result"
    }
   ],
   "source": [
    "data.shape"
   ]
  },
  {
   "cell_type": "code",
   "execution_count": 24,
   "id": "1ad92b8e-a84a-4567-b9e5-a51f3f6934af",
   "metadata": {},
   "outputs": [
    {
     "data": {
      "text/plain": [
       "Index(['x', 'y'], dtype='object')"
      ]
     },
     "execution_count": 24,
     "metadata": {},
     "output_type": "execute_result"
    }
   ],
   "source": [
    "data.columns"
   ]
  },
  {
   "cell_type": "code",
   "execution_count": 25,
   "id": "addbf9bb-c4e7-4f0a-a8a9-dfbe65f334ca",
   "metadata": {},
   "outputs": [
    {
     "data": {
      "text/html": [
       "<div>\n",
       "<style scoped>\n",
       "    .dataframe tbody tr th:only-of-type {\n",
       "        vertical-align: middle;\n",
       "    }\n",
       "\n",
       "    .dataframe tbody tr th {\n",
       "        vertical-align: top;\n",
       "    }\n",
       "\n",
       "    .dataframe thead th {\n",
       "        text-align: right;\n",
       "    }\n",
       "</style>\n",
       "<table border=\"1\" class=\"dataframe\">\n",
       "  <thead>\n",
       "    <tr style=\"text-align: right;\">\n",
       "      <th></th>\n",
       "      <th>x</th>\n",
       "      <th>y</th>\n",
       "    </tr>\n",
       "  </thead>\n",
       "  <tbody>\n",
       "    <tr>\n",
       "      <th>count</th>\n",
       "      <td>700.000000</td>\n",
       "      <td>699.000000</td>\n",
       "    </tr>\n",
       "    <tr>\n",
       "      <th>mean</th>\n",
       "      <td>54.985939</td>\n",
       "      <td>49.939869</td>\n",
       "    </tr>\n",
       "    <tr>\n",
       "      <th>std</th>\n",
       "      <td>134.681703</td>\n",
       "      <td>29.109217</td>\n",
       "    </tr>\n",
       "    <tr>\n",
       "      <th>min</th>\n",
       "      <td>0.000000</td>\n",
       "      <td>-3.839981</td>\n",
       "    </tr>\n",
       "    <tr>\n",
       "      <th>25%</th>\n",
       "      <td>25.000000</td>\n",
       "      <td>24.929968</td>\n",
       "    </tr>\n",
       "    <tr>\n",
       "      <th>50%</th>\n",
       "      <td>49.000000</td>\n",
       "      <td>48.973020</td>\n",
       "    </tr>\n",
       "    <tr>\n",
       "      <th>75%</th>\n",
       "      <td>75.000000</td>\n",
       "      <td>74.929911</td>\n",
       "    </tr>\n",
       "    <tr>\n",
       "      <th>max</th>\n",
       "      <td>3530.157369</td>\n",
       "      <td>108.871618</td>\n",
       "    </tr>\n",
       "  </tbody>\n",
       "</table>\n",
       "</div>"
      ],
      "text/plain": [
       "                 x           y\n",
       "count   700.000000  699.000000\n",
       "mean     54.985939   49.939869\n",
       "std     134.681703   29.109217\n",
       "min       0.000000   -3.839981\n",
       "25%      25.000000   24.929968\n",
       "50%      49.000000   48.973020\n",
       "75%      75.000000   74.929911\n",
       "max    3530.157369  108.871618"
      ]
     },
     "execution_count": 25,
     "metadata": {},
     "output_type": "execute_result"
    }
   ],
   "source": [
    "data.describe()"
   ]
  },
  {
   "cell_type": "code",
   "execution_count": 26,
   "id": "5607b2b7-bbb0-4724-a675-111b5996c993",
   "metadata": {},
   "outputs": [
    {
     "name": "stdout",
     "output_type": "stream",
     "text": [
      "<class 'pandas.core.frame.DataFrame'>\n",
      "RangeIndex: 700 entries, 0 to 699\n",
      "Data columns (total 2 columns):\n",
      " #   Column  Non-Null Count  Dtype  \n",
      "---  ------  --------------  -----  \n",
      " 0   x       700 non-null    float64\n",
      " 1   y       699 non-null    float64\n",
      "dtypes: float64(2)\n",
      "memory usage: 11.0 KB\n"
     ]
    }
   ],
   "source": [
    "data.info()"
   ]
  },
  {
   "cell_type": "code",
   "execution_count": 27,
   "id": "14e886f2-d745-4d10-bc0d-293724e795a2",
   "metadata": {},
   "outputs": [
    {
     "name": "stdout",
     "output_type": "stream",
     "text": [
      "         x        y\n",
      "x  1.00000  0.99534\n",
      "y  0.99534  1.00000\n"
     ]
    }
   ],
   "source": [
    "print(data.corr())"
   ]
  },
  {
   "cell_type": "markdown",
   "id": "4dd3f8bd-68dd-416d-b0ae-c63daa05afd3",
   "metadata": {},
   "source": [
    "#### Handling NULL Value"
   ]
  },
  {
   "cell_type": "code",
   "execution_count": 28,
   "id": "88386ccd-d6fc-460c-b658-fe64117633d5",
   "metadata": {},
   "outputs": [
    {
     "name": "stdout",
     "output_type": "stream",
     "text": [
      "Shape of the dataset = (699, 2)\n"
     ]
    }
   ],
   "source": [
    "data = data.dropna()\n",
    "print(\"Shape of the dataset = {}\".format(data.shape))"
   ]
  },
  {
   "cell_type": "code",
   "execution_count": 29,
   "id": "6a076554-de51-47c4-b6d4-33f53c872e27",
   "metadata": {},
   "outputs": [
    {
     "name": "stdout",
     "output_type": "stream",
     "text": [
      "<class 'pandas.core.frame.DataFrame'>\n",
      "Int64Index: 699 entries, 0 to 699\n",
      "Data columns (total 2 columns):\n",
      " #   Column  Non-Null Count  Dtype  \n",
      "---  ------  --------------  -----  \n",
      " 0   x       699 non-null    float64\n",
      " 1   y       699 non-null    float64\n",
      "dtypes: float64(2)\n",
      "memory usage: 16.4 KB\n"
     ]
    }
   ],
   "source": [
    "data.info()"
   ]
  },
  {
   "cell_type": "markdown",
   "id": "71cfc3ce-5bbf-48ac-91a5-7682f37b583c",
   "metadata": {},
   "source": [
    "#### Splitting data"
   ]
  },
  {
   "cell_type": "code",
   "execution_count": 30,
   "id": "f3af9c1e-64c3-424b-b7ff-f146a2496d00",
   "metadata": {},
   "outputs": [
    {
     "name": "stdout",
     "output_type": "stream",
     "text": [
      "      x\n",
      "0  24.0\n",
      "1  50.0\n",
      "2  15.0\n",
      "3  38.0\n",
      "4  87.0\n",
      "695    58.595006\n",
      "696    94.625094\n",
      "697    88.603770\n",
      "698    63.648685\n",
      "699    94.975266\n",
      "Name: y, dtype: float64\n",
      "(699, 1) (699,)\n"
     ]
    }
   ],
   "source": [
    "x = data.iloc[:,0:-1]\n",
    "y = data.iloc[:,-1]\n",
    "print(x.head())\n",
    "print(y.tail())\n",
    "print(x.shape,y.shape)"
   ]
  },
  {
   "cell_type": "code",
   "execution_count": 31,
   "id": "eeb6548b-0f4e-4d24-b85c-4cadd83aff01",
   "metadata": {
    "jupyter": {
     "source_hidden": true
    },
    "tags": []
   },
   "outputs": [
    {
     "name": "stdout",
     "output_type": "stream",
     "text": [
      "(559, 1)\n",
      "(140, 1)\n",
      "(559,)\n",
      "(140,)\n"
     ]
    }
   ],
   "source": [
    "from sklearn.model_selection import train_test_split\n",
    "\n",
    "x_train,x_test,y_train,y_test = train_test_split(x,y,test_size=.2,random_state=1)\n",
    "print(x_train.shape)\n",
    "print(x_test.shape)\n",
    "print(y_train.shape)\n",
    "print(y_test.shape)"
   ]
  },
  {
   "cell_type": "code",
   "execution_count": 32,
   "id": "2cf6ec8e-991e-41d3-b226-9fe75ffde7c9",
   "metadata": {},
   "outputs": [
    {
     "data": {
      "text/plain": [
       "LinearRegression()"
      ]
     },
     "execution_count": 32,
     "metadata": {},
     "output_type": "execute_result"
    }
   ],
   "source": [
    "from sklearn.linear_model import LinearRegression\n",
    "std_model  = LinearRegression()\n",
    "std_model.fit(x_train,y_train)"
   ]
  },
  {
   "cell_type": "code",
   "execution_count": 33,
   "id": "1c5e5561-ec2d-4f33-a861-1febbb2d2619",
   "metadata": {},
   "outputs": [
    {
     "name": "stdout",
     "output_type": "stream",
     "text": [
      "[ 9.76103801e+01  7.76854962e+01  8.66516939e+01  6.27418333e+01\n",
      "  7.37005194e+01  4.68019262e+01  2.58807981e+01  6.07493449e+01\n",
      "  6.67268101e+01  1.99033330e+01  9.96028684e+01  1.29296236e+01\n",
      "  9.86066242e+01  5.37756355e+01  8.86441823e+01  4.97906588e+01\n",
      "  7.07117868e+01  4.48094378e+01  2.38883097e+01  9.26291591e+01\n",
      "  7.27042752e+01  4.97906588e+01  8.16704730e+01  9.26291591e+01\n",
      "  3.18582633e+01  9.94089102e+00  9.94089102e+00  1.39258678e+01\n",
      "  3.08620191e+01  5.07869030e+01  2.48845539e+01  1.69146004e+01\n",
      "  3.48469959e+01  1.59183562e+01  7.46967636e+01  3.08620191e+01\n",
      "  8.56554497e+01  6.17455891e+01  6.77230542e+01  3.08620191e+01\n",
      "  4.18207052e+01  6.77230542e+01  6.95215844e+00  4.28169494e+01\n",
      "  9.46216475e+01  5.57681239e+01  2.38883097e+01  2.58807981e+01\n",
      "  5.27793913e+01  6.97155426e+01  2.98657749e+01  9.06366707e+01\n",
      "  5.77606123e+01  1.59183562e+01  7.27042752e+01  4.77981704e+01\n",
      "  3.78357284e+01  5.07869030e+01  3.18582633e+01  6.87192984e+01\n",
      "  2.96718167e+00  6.95215844e+00  9.26291591e+01  1.59183562e+01\n",
      "  4.97906588e+01  2.68770423e+01  7.46967636e+01 -2.15509134e-02\n",
      "  2.58807981e+01  4.58056820e+01  8.86441823e+01  7.07117868e+01\n",
      "  2.38883097e+01  1.89070888e+01  1.29296236e+01  3.18582633e+01\n",
      "  6.37380775e+01  6.27418333e+01  2.38883097e+01  5.17831472e+01\n",
      "  2.28920655e+01  7.94840264e+00  2.48845539e+01  2.68770423e+01\n",
      "  9.76103801e+01  2.96718167e+00  4.38131936e+01  8.26667172e+01\n",
      "  5.17831472e+01  3.68394842e+01  2.48845539e+01  7.27042752e+01\n",
      "  3.88319726e+01  4.97906588e+01  2.48845539e+01  6.97155426e+01\n",
      "  3.08620191e+01  4.18207052e+01  5.37756355e+01  7.56930078e+01\n",
      "  2.58807981e+01  3.88319726e+01  8.46592055e+01  7.07117868e+01\n",
      "  7.37005194e+01  7.76854962e+01  4.95967005e+00  4.77981704e+01\n",
      "  7.86817404e+01  7.37005194e+01  8.56554497e+01  8.94464683e+00\n",
      "  5.77606123e+01  3.88319726e+01  1.99033330e+01  4.58056820e+01\n",
      "  4.18207052e+01  8.94464683e+00  6.95215844e+00  6.97155426e+01\n",
      "  2.58807981e+01  9.66141359e+01  4.77981704e+01  1.09371352e+01\n",
      "  3.08620191e+01  8.86441823e+01  9.36254033e+01  1.19333794e+01\n",
      "  9.26291591e+01  7.94840264e+00  5.97531007e+01  2.48845539e+01\n",
      "  2.08995772e+01  8.06742288e+01  8.86441823e+01  7.07117868e+01\n",
      "  6.97155426e+01  1.09371352e+01  6.67268101e+01  7.46967636e+01]\n",
      "585    101.109759\n",
      "418     78.384919\n",
      "607     89.933743\n",
      "350     62.031910\n",
      "134     70.775498\n",
      "          ...    \n",
      "427     75.144663\n",
      "119     71.143327\n",
      "82       6.963372\n",
      "330     71.971210\n",
      "306     79.206101\n",
      "Name: y, Length: 140, dtype: float64\n",
      "        x\n",
      "585  98.0\n",
      "418  78.0\n",
      "607  87.0\n",
      "350  63.0\n",
      "134  74.0\n",
      "..    ...\n",
      "427  71.0\n",
      "119  70.0\n",
      "82   11.0\n",
      "330  67.0\n",
      "306  75.0\n",
      "\n",
      "[140 rows x 1 columns]\n"
     ]
    }
   ],
   "source": [
    "y_pred = std_model.predict(x_test)\n",
    "print(y_pred)\n",
    "print(y_test)\n",
    "print(x_test)"
   ]
  },
  {
   "cell_type": "code",
   "execution_count": 34,
   "id": "08ad382a-e2ea-408a-833e-15e098902d55",
   "metadata": {},
   "outputs": [
    {
     "name": "stdout",
     "output_type": "stream",
     "text": [
      "[0.99624419]\n",
      "-0.021550913367399005\n",
      "accuracy is:  0.9887032554723144\n",
      "Mean Squared Error:  9.299074911884453\n"
     ]
    }
   ],
   "source": [
    "print(std_model.coef_)\n",
    "print(std_model.intercept_)\n",
    "from sklearn.metrics import r2_score, mean_squared_error\n",
    "print(\"accuracy is: \", r2_score(y_test,y_pred))\n",
    "print(\"Mean Squared Error: \", mean_squared_error(y_test,y_pred))"
   ]
  },
  {
   "cell_type": "code",
   "execution_count": 35,
   "id": "2e55cccd-32dc-410a-b4dd-40e6b4f69e9e",
   "metadata": {},
   "outputs": [
    {
     "data": {
      "text/plain": [
       "0.011296744527685587"
      ]
     },
     "execution_count": 35,
     "metadata": {},
     "output_type": "execute_result"
    }
   ],
   "source": [
    "vif = 1/1-(r2_score(y_test,y_pred))\n",
    "\n",
    "vif"
   ]
  },
  {
   "cell_type": "code",
   "execution_count": 43,
   "id": "cc17578b-6de9-4d04-afc3-165ec32ec06d",
   "metadata": {},
   "outputs": [
    {
     "data": {
      "image/png": "[encoded data removed]",
      "text/plain": [
       "<Figure size 432x288 with 1 Axes>"
      ]
     },
     "metadata": {
      "needs_background": "light"
     },
     "output_type": "display_data"
    }
   ],
   "source": [
    "plt.scatter(x_train,y_train, marker= '_',color='r')\n",
    "plt.plot(x_train,std_model.predict(x_train),color='b')         \n",
    "plt.grid()\n",
    "plt.show()"
   ]
  },
  {
   "cell_type": "code",
   "execution_count": 38,
   "id": "44c1e74f-e30e-429b-b32f-677316bed760",
   "metadata": {},
   "outputs": [
    {
     "data": {
      "text/plain": [
       "0.8065209007761913"
      ]
     },
     "execution_count": 38,
     "metadata": {},
     "output_type": "execute_result"
    }
   ],
   "source": [
    "np.random.uniform(0,1)"
   ]
  },
  {
   "cell_type": "markdown",
   "id": "d4043e1a-5ae3-4642-a67c-4c5d901d4d59",
   "metadata": {},
   "source": [
    "# Applications of linear regression\n",
    "1.“What is the market value of the house?”\n",
    "\n",
    "2.“Stock price prediction”\n",
    "\n",
    "3.“Sales of a shop”\n",
    "\n",
    "4.“Predicting height of a person”"
   ]
  },
  {
   "cell_type": "markdown",
   "id": "0f0c5d96-b1ab-43da-ac67-ec874e90bcae",
   "metadata": {},
   "source": [
    "# Use case of Linear Regression"
   ]
  },
  {
   "cell_type": "markdown",
   "id": "d709719c-15e8-479c-8891-80010affb764",
   "metadata": {},
   "source": [
    " 1. Determining the strength of predictors\n",
    " 2. Forecasting and effect\n",
    " 3. Trend Forecasting"
   ]
  },
  {
   "cell_type": "code",
   "execution_count": null,
   "id": "fb390b0e-ed88-4b07-9301-ef3fb498ee0c",
   "metadata": {},
   "outputs": [],
   "source": []
  }
 ],
 "metadata": {
  "kernelspec": {
   "display_name": "Python 3",
   "language": "python",
   "name": "python3"
  },
  "language_info": {
   "codemirror_mode": {
    "name": "ipython",
    "version": 3
   },
   "file_extension": ".py",
   "mimetype": "text/x-python",
   "name": "python",
   "nbconvert_exporter": "python",
   "pygments_lexer": "ipython3",
   "version": "3.8.5"
  }
 },
 "nbformat": 4,
 "nbformat_minor": 5
}
