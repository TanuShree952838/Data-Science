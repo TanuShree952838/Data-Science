{
 "cells": [
  {
   "cell_type": "code",
   "execution_count": 1,
   "id": "pregnant-interpretation",
   "metadata": {},
   "outputs": [],
   "source": [
    "import random"
   ]
  },
  {
   "cell_type": "code",
   "execution_count": 2,
   "id": "seasonal-disposal",
   "metadata": {},
   "outputs": [],
   "source": [
    "def guess(A):\n",
    "    ran_number = random.randint(1, A)\n",
    "    \n",
    "    chance = 5\n",
    "    while chance > 0:\n",
    "        guess = 0\n",
    "        while guess != ran_number:\n",
    "             guess = int(input(f\"Guess Your Favourite Number from 1 to {A} : \"))\n",
    "             if guess < ran_number:\n",
    "                print(\"Sorry! The number you have guessed is incorrect... Too low Guess again\")\n",
    "             elif guess > ran_number:\n",
    "                print(\"Sorry! The number you have guessed is incorrect... Too high Guess again\")\n",
    "             else:\n",
    "                print( \"Oops! All your chances are finished. Better luck next time!\")\n",
    "                chance -= 1\n",
    "\n",
    "        print(f\"Congrats! You have guessed the correct number {ran_number}...\")\n"
   ]
  },
  {
   "cell_type": "code",
   "execution_count": 3,
   "id": "harmful-dependence",
   "metadata": {},
   "outputs": [],
   "source": [
    "def guess_choice():\n",
    "    print(\"\"\"1. Guess computer's Number\\n2. Exit\\n\"\"\")\n",
    "    x = input(\"Do you like to Play the Guessing Number Game...??? \")\n",
    "    while x:\n",
    "        if x == \"1\":\n",
    "            print(\"\\nGuess a number\")\n",
    "            guess(100)\n",
    "        elif x == \"2\":\n",
    "            print(\"\\n Exit\")\n",
    "\n",
    "\n",
    "        else:\n",
    "            print(\"\\n Not Valid Choice Try again To Have Fun\")"
   ]
  },
  {
   "cell_type": "code",
   "execution_count": null,
   "id": "tamil-vintage",
   "metadata": {},
   "outputs": [
    {
     "name": "stdout",
     "output_type": "stream",
     "text": [
      "1. Guess computer's Number\n",
      "2. Exit\n",
      "\n",
      "Do you like to Play the Guessing Number Game...??? 1\n",
      "\n",
      "Guess a number\n",
      "Guess Your Favourite Number from 1 to 100 : 50\n",
      "Sorry! The number you have guessed is incorrect... Too low Guess again\n",
      "Guess Your Favourite Number from 1 to 100 : 70\n",
      "Sorry! The number you have guessed is incorrect... Too low Guess again\n",
      "Guess Your Favourite Number from 1 to 100 : 80\n",
      "Sorry! The number you have guessed is incorrect... Too low Guess again\n",
      "Guess Your Favourite Number from 1 to 100 : 99\n",
      "Sorry! The number you have guessed is incorrect... Too high Guess again\n",
      "Guess Your Favourite Number from 1 to 100 : 90\n",
      "Sorry! The number you have guessed is incorrect... Too high Guess again\n",
      "Guess Your Favourite Number from 1 to 100 : 85\n",
      "Oops! All your chances are finished. Better luck next time!\n",
      "Congrats! You have guessed the correct number 85...\n"
     ]
    }
   ],
   "source": [
    "guess_choice()"
   ]
  },
  {
   "cell_type": "code",
   "execution_count": null,
   "id": "infrared-politics",
   "metadata": {},
   "outputs": [],
   "source": []
  },
  {
   "cell_type": "code",
   "execution_count": null,
   "id": "arranged-spain",
   "metadata": {},
   "outputs": [],
   "source": []
  }
 ],
 "metadata": {
  "kernelspec": {
   "display_name": "Python 3",
   "language": "python",
   "name": "python3"
  },
  "language_info": {
   "codemirror_mode": {
    "name": "ipython",
    "version": 3
   },
   "file_extension": ".py",
   "mimetype": "text/x-python",
   "name": "python",
   "nbconvert_exporter": "python",
   "pygments_lexer": "ipython3",
   "version": "3.8.5"
  }
 },
 "nbformat": 4,
 "nbformat_minor": 5
}
