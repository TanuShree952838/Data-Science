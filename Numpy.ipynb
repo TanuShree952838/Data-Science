{
 "cells": [
  {
   "cell_type": "markdown",
   "id": "5c1cf0d4-3246-4023-9323-826b3b949bbb",
   "metadata": {},
   "source": [
    "# Introduction to Numpy and What is Numpy?"
   ]
  },
  {
   "cell_type": "markdown",
   "id": "c10072eb-9c40-4f30-ab0c-616e06ce74a7",
   "metadata": {},
   "source": [
    "NumPy is a python package, primarily used for scientific and numerical computing. NumPy is a Python fundamental package used for efficient manipulations and operations on High-level mathematical functions, Multi-dimensional arrays, Linear algebra, Fourier Transformations, Random Number Capabilities, etc. NumPy is a combination of two words, coined by the blending of “Numerical” and “Python”."
   ]
  },
  {
   "cell_type": "code",
   "execution_count": 61,
   "id": "f93512c2-fd3f-43fe-84f1-303bf97ad55e",
   "metadata": {},
   "outputs": [
    {
     "name": "stdout",
     "output_type": "stream",
     "text": [
      "1.19.2\n",
      "<function show at 0x059A6580>\n"
     ]
    }
   ],
   "source": [
    "#Import the numpy package under the name np and Print the numpy version and the configuration.\n",
    "import numpy as np\n",
    "print(np.__version__)\n",
    "print(np.show_config)"
   ]
  },
  {
   "cell_type": "markdown",
   "id": "050aed0c-b0cd-4a56-85a6-207dea7d82da",
   "metadata": {},
   "source": [
    "# Why Numpy Arrays\n",
    "NumPy Arrays are faster than Python Lists."
   ]
  },
  {
   "cell_type": "code",
   "execution_count": 62,
   "id": "91047e2d-6c48-472f-a4d7-dcedffa332d2",
   "metadata": {},
   "outputs": [
    {
     "name": "stdout",
     "output_type": "stream",
     "text": [
      "Time take by List :  159.99603271484375\n",
      "Time taken by numpy array :  0.0\n"
     ]
    }
   ],
   "source": [
    "import time\n",
    "import sys\n",
    "size =1000000\n",
    "l1 = range(size)\n",
    "l2 = range(size)\n",
    "n1 = np.arange(size)\n",
    "n2 = np.arange(size)\n",
    "start = time.time( )\n",
    "res = [(x+y) for x,y in zip(l1,l2)]\n",
    "print(\"Time take by List : \", (time.time()-start)*1000)\n",
    "start = time.time( )\n",
    "res1 = n1+n2\n",
    "print(\"Time taken by numpy array : \", (time.time()-start)*1000)"
   ]
  },
  {
   "cell_type": "markdown",
   "id": "448f49db-43be-4bd7-b604-13267229d70e",
   "metadata": {},
   "source": [
    "# Numpy ndarrays Objects"
   ]
  },
  {
   "cell_type": "code",
   "execution_count": 63,
   "id": "cf680469-4e8d-4bb5-8632-c414009b85a9",
   "metadata": {},
   "outputs": [
    {
     "name": "stdout",
     "output_type": "stream",
     "text": [
      "int32\n"
     ]
    }
   ],
   "source": [
    "array = np.array([10,38,85,57,78,97,32,35,11,65])\n",
    "print(array.dtype)"
   ]
  },
  {
   "cell_type": "code",
   "execution_count": 64,
   "id": "dac9e112-fdbe-41f1-8957-3c965f67a22a",
   "metadata": {},
   "outputs": [
    {
     "name": "stdout",
     "output_type": "stream",
     "text": [
      "No. of dimensions:  1\n"
     ]
    }
   ],
   "source": [
    "print(\"No. of dimensions: \", array.ndim) #Number of array dimensions."
   ]
  },
  {
   "cell_type": "code",
   "execution_count": 65,
   "id": "b1e94226-d0a8-46c4-ad9d-689f3804d180",
   "metadata": {},
   "outputs": [
    {
     "name": "stdout",
     "output_type": "stream",
     "text": [
      "Shape of array:  (10,)\n"
     ]
    }
   ],
   "source": [
    "print(\"Shape of array: \", array.shape) #Number of elements in the array."
   ]
  },
  {
   "cell_type": "code",
   "execution_count": 66,
   "id": "436ed175-715e-49fb-b296-91e7e085d13d",
   "metadata": {},
   "outputs": [
    {
     "name": "stdout",
     "output_type": "stream",
     "text": [
      "ItemSize:  4\n"
     ]
    }
   ],
   "source": [
    "print(\"ItemSize: \", array.itemsize) #Length of one array element in bytes."
   ]
  },
  {
   "cell_type": "code",
   "execution_count": 67,
   "id": "6f19fa24-4db2-4d44-b92a-c3ed824ab373",
   "metadata": {},
   "outputs": [
    {
     "data": {
      "text/plain": [
       "40"
      ]
     },
     "execution_count": 67,
     "metadata": {},
     "output_type": "execute_result"
    }
   ],
   "source": [
    "array.nbytes #Total bytes consumed by the elements of the array."
   ]
  },
  {
   "cell_type": "code",
   "execution_count": 68,
   "id": "f79d8e49-2e8d-463a-968c-1ea0e28f9ad7",
   "metadata": {},
   "outputs": [
    {
     "data": {
      "text/plain": [
       "array([[0.94981865, 0.70954612, 0.02395477, 0.22511516, 0.56437769],\n",
       "       [0.67162376, 0.57767352, 0.58404268, 0.03973803, 0.40845863]])"
      ]
     },
     "execution_count": 68,
     "metadata": {},
     "output_type": "execute_result"
    }
   ],
   "source": [
    "# How to Convert a 1D array to a 2D array with 2 rows\n",
    "randomarr = np.random.random(10)\n",
    "randomarr = randomarr.reshape(2,5)\n",
    "randomarr"
   ]
  },
  {
   "cell_type": "markdown",
   "id": "7e8c9c44-6a72-4990-8970-5545e3c4f00d",
   "metadata": {},
   "source": [
    "# Array Indexing and Slicing"
   ]
  },
  {
   "cell_type": "code",
   "execution_count": 69,
   "id": "08753d26-8852-4ca5-b4dc-595014cd4c7e",
   "metadata": {},
   "outputs": [
    {
     "name": "stdout",
     "output_type": "stream",
     "text": [
      "[10 11 12 13 14 15 16 17 18 19 20 21 22 23 24 25 26 27 28 29 30 31 32 33\n",
      " 34 35 36 37 38 39 40 41 42 43 44 45 46 47 48 49]\n"
     ]
    }
   ],
   "source": [
    "vector = np.arange(10,50)\n",
    "print(vector)"
   ]
  },
  {
   "cell_type": "code",
   "execution_count": 70,
   "id": "caf85849-9247-4807-a60d-d10229bae782",
   "metadata": {},
   "outputs": [
    {
     "name": "stdout",
     "output_type": "stream",
     "text": [
      "[10 15 20 25 30 35 40 45]\n"
     ]
    }
   ],
   "source": [
    "vector = np.arange(10,50,5)\n",
    "print(vector)"
   ]
  },
  {
   "cell_type": "markdown",
   "id": "4c394be4-51f0-494d-a9dd-caf1ff72b201",
   "metadata": {},
   "source": [
    "# Memory layout of ndarray\n",
    "An instance of the ndarray class is given a continuous segment in the memory. The memory allocation along with the indexing scheme then maps N-integers to an element of the array block. The range of index variation is given by the shape of the array and vice-versa."
   ]
  },
  {
   "cell_type": "code",
   "execution_count": 71,
   "id": "0fe1023b-526d-4f47-b40b-5c45a7ea883f",
   "metadata": {},
   "outputs": [
    {
     "name": "stdout",
     "output_type": "stream",
     "text": [
      "Array sum:\n",
      " [[ 5 11]\n",
      " [11 10]]\n",
      "Array Minus:\n",
      " [[-3 -1]\n",
      " [-5  8]]\n",
      "Array multiplication:\n",
      " [[ 4 30]\n",
      " [24  9]]\n",
      "Array (a^b) :\n",
      " [[    1 15625]\n",
      " [ 6561     9]]\n",
      "Matrix multiplication:\n",
      " [[44 11]\n",
      " [84 27]]\n"
     ]
    }
   ],
   "source": [
    "a = np.array([[1, 5],[3, 9]])\n",
    "b = np.array([[4, 6],[8, 1]])\n",
    "print (\"Array sum:\\n\", a + b)\n",
    "print (\"Array Minus:\\n\", a - b)\n",
    "print (\"Array multiplication:\\n\", a*b)\n",
    "print (\"Array (a^b) :\\n\", a**b)\n",
    "print (\"Matrix multiplication:\\n\", a.dot(b))"
   ]
  },
  {
   "cell_type": "markdown",
   "id": "c1575f03-0474-4488-afdb-afdfb104e9e3",
   "metadata": {},
   "source": [
    "# Views and copies"
   ]
  },
  {
   "cell_type": "code",
   "execution_count": 72,
   "id": "70fbd8da-82b9-4045-9929-435f9f2f3592",
   "metadata": {},
   "outputs": [
    {
     "name": "stdout",
     "output_type": "stream",
     "text": [
      "x is: \n",
      " [[0 1 2 3]\n",
      " [4 5 6 7]]\n",
      "y is :\n",
      " [[0 1 2 3]\n",
      " [4 5 6 7]]\n",
      "\n",
      "x is copied to y\n"
     ]
    }
   ],
   "source": [
    "x = np.array([[0, 1, 2, 3], [4, 5, 6, 7]],order ='F')\n",
    "print(\"x is: \\n\", x)\n",
    "y = x.copy()\n",
    "print(\"y is :\\n\", y)\n",
    "print(\"\\nx is copied to y\")"
   ]
  },
  {
   "cell_type": "markdown",
   "id": "8bd550b0-51ca-49ab-b03a-843d296ef61b",
   "metadata": {},
   "source": [
    "# Creating arrays"
   ]
  },
  {
   "cell_type": "code",
   "execution_count": 73,
   "id": "a7d446e6-d43d-476c-867a-c63265fd4552",
   "metadata": {},
   "outputs": [
    {
     "name": "stdout",
     "output_type": "stream",
     "text": [
      "[[1. 1. 1. 1.]\n",
      " [1. 0. 0. 1.]\n",
      " [1. 0. 0. 1.]\n",
      " [1. 1. 1. 1.]]\n"
     ]
    }
   ],
   "source": [
    "# Create a 2d array with 1 on the border and 0 inside\n",
    "array = np.ones((4,4))\n",
    "array[1:3,1:3]=0\n",
    "print(array)"
   ]
  },
  {
   "cell_type": "code",
   "execution_count": 74,
   "id": "0f15c921-3014-4227-b75b-5d86b60773e5",
   "metadata": {},
   "outputs": [
    {
     "name": "stdout",
     "output_type": "stream",
     "text": [
      "[[0. 0. 0. 0.]\n",
      " [0. 1. 1. 0.]\n",
      " [0. 1. 1. 0.]\n",
      " [0. 0. 0. 0.]]\n"
     ]
    }
   ],
   "source": [
    "#How to add a border (filled with 0's) around an existing array?\n",
    "array = np.zeros((4,4))\n",
    "array[1:3,1:3]=1\n",
    "print(array)"
   ]
  },
  {
   "cell_type": "markdown",
   "id": "517675c6-5ce1-4604-a500-fabed295fb90",
   "metadata": {},
   "source": [
    "# Array datatype"
   ]
  },
  {
   "cell_type": "code",
   "execution_count": 75,
   "id": "58721f2a-eabc-484f-8ad2-7b31afc68998",
   "metadata": {},
   "outputs": [
    {
     "name": "stdout",
     "output_type": "stream",
     "text": [
      "[ True False  True]\n",
      "bool\n"
     ]
    }
   ],
   "source": [
    "arr = np.array([1, 0, 3])\n",
    "newarr = arr.astype(bool)\n",
    "print(newarr)\n",
    "print(newarr.dtype)"
   ]
  },
  {
   "cell_type": "code",
   "execution_count": 76,
   "id": "e8449a47-9955-4b1e-881a-1dd9f5128da2",
   "metadata": {},
   "outputs": [
    {
     "name": "stdout",
     "output_type": "stream",
     "text": [
      "<U3\n"
     ]
    }
   ],
   "source": [
    "arr = np.array([\"one\", \"two\", \"ten\"]) #unicode string\n",
    "print(arr.dtype)"
   ]
  },
  {
   "cell_type": "code",
   "execution_count": 77,
   "id": "2fb48703-039f-4e1b-a19a-236e356f370c",
   "metadata": {},
   "outputs": [
    {
     "name": "stdout",
     "output_type": "stream",
     "text": [
      "float64\n"
     ]
    }
   ],
   "source": [
    "arr = np.array([1.2, 4.5, 2.3]) #float\n",
    "print(arr.dtype)"
   ]
  }
 ],
 "metadata": {
  "kernelspec": {
   "display_name": "Python 3",
   "language": "python",
   "name": "python3"
  },
  "language_info": {
   "codemirror_mode": {
    "name": "ipython",
    "version": 3
   },
   "file_extension": ".py",
   "mimetype": "text/x-python",
   "name": "python",
   "nbconvert_exporter": "python",
   "pygments_lexer": "ipython3",
   "version": "3.8.5"
  }
 },
 "nbformat": 4,
 "nbformat_minor": 5
}
